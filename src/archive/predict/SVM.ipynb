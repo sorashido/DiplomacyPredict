{
 "cells": [
  {
   "cell_type": "code",
   "execution_count": 1,
   "metadata": {
    "collapsed": true
   },
   "outputs": [],
   "source": [
    "import numpy as np\n",
    "import matplotlib.pyplot as plt\n",
    "import pandas as pd"
   ]
  },
  {
   "cell_type": "markdown",
   "metadata": {},
   "source": [
    "## import dataset"
   ]
  },
  {
   "cell_type": "code",
   "execution_count": 2,
   "metadata": {},
   "outputs": [],
   "source": [
    "dataset = pd.read_csv('../dataset/data01.csv')\n",
    "dataset = dataset.iloc[:, 1:126]\n",
    "\n",
    "# tX = dataset.iloc[:, 2:124]\n",
    "# tY = dataset.iloc[:, 125]\n",
    "# X = dataset.iloc[:, 2:123].values #idや名前は除去(特徴量ではない)\n",
    "# y = dataset.iloc[:, 125].values #output(0 or 1) "
   ]
  },
  {
   "cell_type": "code",
   "execution_count": 3,
   "metadata": {},
   "outputs": [
    {
     "data": {
      "text/html": [
       "<div>\n",
       "<table border=\"1\" class=\"dataframe\">\n",
       "  <thead>\n",
       "    <tr style=\"text-align: right;\">\n",
       "      <th></th>\n",
       "      <th>GAME</th>\n",
       "      <th>COUNTRY</th>\n",
       "      <th>YEAR</th>\n",
       "      <th>NAPFLT</th>\n",
       "      <th>GOBFLT</th>\n",
       "      <th>SERAMY</th>\n",
       "      <th>NWYAMY</th>\n",
       "      <th>GASAMY</th>\n",
       "      <th>AEGFLT</th>\n",
       "      <th>TUNAMY</th>\n",
       "      <th>...</th>\n",
       "      <th>MARFLT</th>\n",
       "      <th>ROMFLT</th>\n",
       "      <th>EDIAMY</th>\n",
       "      <th>EDIFLT</th>\n",
       "      <th>LONAMY</th>\n",
       "      <th>NAPAMY</th>\n",
       "      <th>NAOFLT</th>\n",
       "      <th>MUNAMY</th>\n",
       "      <th>LONFLT</th>\n",
       "      <th>OUTPUT</th>\n",
       "    </tr>\n",
       "  </thead>\n",
       "  <tbody>\n",
       "    <tr>\n",
       "      <th>0</th>\n",
       "      <td>1</td>\n",
       "      <td>RUS</td>\n",
       "      <td>1901</td>\n",
       "      <td>[]</td>\n",
       "      <td>[]</td>\n",
       "      <td>[]</td>\n",
       "      <td>[]</td>\n",
       "      <td>[]</td>\n",
       "      <td>[]</td>\n",
       "      <td>[]</td>\n",
       "      <td>...</td>\n",
       "      <td>[]</td>\n",
       "      <td>[]</td>\n",
       "      <td>[]</td>\n",
       "      <td>[]</td>\n",
       "      <td>[]</td>\n",
       "      <td>[]</td>\n",
       "      <td>[]</td>\n",
       "      <td>[]</td>\n",
       "      <td>[]</td>\n",
       "      <td>4</td>\n",
       "    </tr>\n",
       "    <tr>\n",
       "      <th>1</th>\n",
       "      <td>1</td>\n",
       "      <td>AUS</td>\n",
       "      <td>1901</td>\n",
       "      <td>[]</td>\n",
       "      <td>[]</td>\n",
       "      <td>AUS</td>\n",
       "      <td>[]</td>\n",
       "      <td>[]</td>\n",
       "      <td>[]</td>\n",
       "      <td>[]</td>\n",
       "      <td>...</td>\n",
       "      <td>[]</td>\n",
       "      <td>[]</td>\n",
       "      <td>[]</td>\n",
       "      <td>[]</td>\n",
       "      <td>[]</td>\n",
       "      <td>[]</td>\n",
       "      <td>[]</td>\n",
       "      <td>[]</td>\n",
       "      <td>[]</td>\n",
       "      <td>4</td>\n",
       "    </tr>\n",
       "    <tr>\n",
       "      <th>2</th>\n",
       "      <td>1</td>\n",
       "      <td>GER</td>\n",
       "      <td>1901</td>\n",
       "      <td>[]</td>\n",
       "      <td>[]</td>\n",
       "      <td>AUS</td>\n",
       "      <td>[]</td>\n",
       "      <td>[]</td>\n",
       "      <td>[]</td>\n",
       "      <td>[]</td>\n",
       "      <td>...</td>\n",
       "      <td>[]</td>\n",
       "      <td>[]</td>\n",
       "      <td>[]</td>\n",
       "      <td>[]</td>\n",
       "      <td>[]</td>\n",
       "      <td>[]</td>\n",
       "      <td>[]</td>\n",
       "      <td>[]</td>\n",
       "      <td>[]</td>\n",
       "      <td>4</td>\n",
       "    </tr>\n",
       "    <tr>\n",
       "      <th>3</th>\n",
       "      <td>1</td>\n",
       "      <td>TUR</td>\n",
       "      <td>1901</td>\n",
       "      <td>[]</td>\n",
       "      <td>[]</td>\n",
       "      <td>AUS</td>\n",
       "      <td>[]</td>\n",
       "      <td>[]</td>\n",
       "      <td>[]</td>\n",
       "      <td>[]</td>\n",
       "      <td>...</td>\n",
       "      <td>[]</td>\n",
       "      <td>[]</td>\n",
       "      <td>[]</td>\n",
       "      <td>[]</td>\n",
       "      <td>[]</td>\n",
       "      <td>[]</td>\n",
       "      <td>[]</td>\n",
       "      <td>[]</td>\n",
       "      <td>[]</td>\n",
       "      <td>4</td>\n",
       "    </tr>\n",
       "    <tr>\n",
       "      <th>4</th>\n",
       "      <td>1</td>\n",
       "      <td>FRA</td>\n",
       "      <td>1901</td>\n",
       "      <td>[]</td>\n",
       "      <td>[]</td>\n",
       "      <td>AUS</td>\n",
       "      <td>[]</td>\n",
       "      <td>[]</td>\n",
       "      <td>[]</td>\n",
       "      <td>[]</td>\n",
       "      <td>...</td>\n",
       "      <td>[]</td>\n",
       "      <td>[]</td>\n",
       "      <td>[]</td>\n",
       "      <td>[]</td>\n",
       "      <td>[]</td>\n",
       "      <td>[]</td>\n",
       "      <td>[]</td>\n",
       "      <td>FRA</td>\n",
       "      <td>[]</td>\n",
       "      <td>6</td>\n",
       "    </tr>\n",
       "  </tbody>\n",
       "</table>\n",
       "<p>5 rows × 125 columns</p>\n",
       "</div>"
      ],
      "text/plain": [
       "   GAME COUNTRY  YEAR NAPFLT GOBFLT SERAMY NWYAMY GASAMY AEGFLT TUNAMY  ...    \\\n",
       "0     1     RUS  1901     []     []     []     []     []     []     []  ...     \n",
       "1     1     AUS  1901     []     []    AUS     []     []     []     []  ...     \n",
       "2     1     GER  1901     []     []    AUS     []     []     []     []  ...     \n",
       "3     1     TUR  1901     []     []    AUS     []     []     []     []  ...     \n",
       "4     1     FRA  1901     []     []    AUS     []     []     []     []  ...     \n",
       "\n",
       "  MARFLT ROMFLT EDIAMY EDIFLT LONAMY NAPAMY NAOFLT MUNAMY LONFLT OUTPUT  \n",
       "0     []     []     []     []     []     []     []     []     []      4  \n",
       "1     []     []     []     []     []     []     []     []     []      4  \n",
       "2     []     []     []     []     []     []     []     []     []      4  \n",
       "3     []     []     []     []     []     []     []     []     []      4  \n",
       "4     []     []     []     []     []     []     []    FRA     []      6  \n",
       "\n",
       "[5 rows x 125 columns]"
      ]
     },
     "execution_count": 3,
     "metadata": {},
     "output_type": "execute_result"
    }
   ],
   "source": [
    "dataset.head()"
   ]
  },
  {
   "cell_type": "markdown",
   "metadata": {},
   "source": [
    "国別に分けて, outputのデータを最終年の補給地の数にする"
   ]
  },
  {
   "cell_type": "code",
   "execution_count": 4,
   "metadata": {},
   "outputs": [],
   "source": [
    "rus_dataset = dataset[dataset.COUNTRY == 'RUS']\n",
    "aus_dataset = dataset[dataset.COUNTRY == 'AUS']\n",
    "ger_dataset = dataset[dataset.COUNTRY == 'GER']\n",
    "tur_dataset = dataset[dataset.COUNTRY == 'TUR']\n",
    "fra_dataset = dataset[dataset.COUNTRY == 'FRA']\n",
    "eng_dataset = dataset[dataset.COUNTRY == 'ENG']\n",
    "ita_dataset = dataset[dataset.COUNTRY == 'ITA']"
   ]
  },
  {
   "cell_type": "code",
   "execution_count": 5,
   "metadata": {},
   "outputs": [
    {
     "data": {
      "text/html": [
       "<div>\n",
       "<table border=\"1\" class=\"dataframe\">\n",
       "  <thead>\n",
       "    <tr style=\"text-align: right;\">\n",
       "      <th></th>\n",
       "      <th>GAME</th>\n",
       "      <th>COUNTRY</th>\n",
       "      <th>YEAR</th>\n",
       "      <th>NAPFLT</th>\n",
       "      <th>GOBFLT</th>\n",
       "      <th>SERAMY</th>\n",
       "      <th>NWYAMY</th>\n",
       "      <th>GASAMY</th>\n",
       "      <th>AEGFLT</th>\n",
       "      <th>TUNAMY</th>\n",
       "      <th>...</th>\n",
       "      <th>MARFLT</th>\n",
       "      <th>ROMFLT</th>\n",
       "      <th>EDIAMY</th>\n",
       "      <th>EDIFLT</th>\n",
       "      <th>LONAMY</th>\n",
       "      <th>NAPAMY</th>\n",
       "      <th>NAOFLT</th>\n",
       "      <th>MUNAMY</th>\n",
       "      <th>LONFLT</th>\n",
       "      <th>OUTPUT</th>\n",
       "    </tr>\n",
       "  </thead>\n",
       "  <tbody>\n",
       "    <tr>\n",
       "      <th>5</th>\n",
       "      <td>1</td>\n",
       "      <td>ENG</td>\n",
       "      <td>1901</td>\n",
       "      <td>[]</td>\n",
       "      <td>[]</td>\n",
       "      <td>AUS</td>\n",
       "      <td>[]</td>\n",
       "      <td>[]</td>\n",
       "      <td>[]</td>\n",
       "      <td>[]</td>\n",
       "      <td>...</td>\n",
       "      <td>[]</td>\n",
       "      <td>[]</td>\n",
       "      <td>[]</td>\n",
       "      <td>[]</td>\n",
       "      <td>[]</td>\n",
       "      <td>[]</td>\n",
       "      <td>[]</td>\n",
       "      <td>FRA</td>\n",
       "      <td>[]</td>\n",
       "      <td>3</td>\n",
       "    </tr>\n",
       "    <tr>\n",
       "      <th>12</th>\n",
       "      <td>1</td>\n",
       "      <td>ENG</td>\n",
       "      <td>1902</td>\n",
       "      <td>[]</td>\n",
       "      <td>RUS</td>\n",
       "      <td>AUS</td>\n",
       "      <td>[]</td>\n",
       "      <td>[]</td>\n",
       "      <td>TUR</td>\n",
       "      <td>[]</td>\n",
       "      <td>...</td>\n",
       "      <td>[]</td>\n",
       "      <td>[]</td>\n",
       "      <td>[]</td>\n",
       "      <td>[]</td>\n",
       "      <td>[]</td>\n",
       "      <td>[]</td>\n",
       "      <td>[]</td>\n",
       "      <td>FRA</td>\n",
       "      <td>[]</td>\n",
       "      <td>4</td>\n",
       "    </tr>\n",
       "    <tr>\n",
       "      <th>19</th>\n",
       "      <td>1</td>\n",
       "      <td>ENG</td>\n",
       "      <td>1903</td>\n",
       "      <td>[]</td>\n",
       "      <td>RUS</td>\n",
       "      <td>AUS</td>\n",
       "      <td>[]</td>\n",
       "      <td>[]</td>\n",
       "      <td>TUR</td>\n",
       "      <td>[]</td>\n",
       "      <td>...</td>\n",
       "      <td>[]</td>\n",
       "      <td>[]</td>\n",
       "      <td>[]</td>\n",
       "      <td>[]</td>\n",
       "      <td>[]</td>\n",
       "      <td>[]</td>\n",
       "      <td>[]</td>\n",
       "      <td>FRA</td>\n",
       "      <td>[]</td>\n",
       "      <td>4</td>\n",
       "    </tr>\n",
       "    <tr>\n",
       "      <th>26</th>\n",
       "      <td>1</td>\n",
       "      <td>ENG</td>\n",
       "      <td>1904</td>\n",
       "      <td>[]</td>\n",
       "      <td>RUS</td>\n",
       "      <td>AUS</td>\n",
       "      <td>[]</td>\n",
       "      <td>FRA</td>\n",
       "      <td>TUR</td>\n",
       "      <td>[]</td>\n",
       "      <td>...</td>\n",
       "      <td>[]</td>\n",
       "      <td>[]</td>\n",
       "      <td>[]</td>\n",
       "      <td>[]</td>\n",
       "      <td>ENG</td>\n",
       "      <td>[]</td>\n",
       "      <td>[]</td>\n",
       "      <td>FRA</td>\n",
       "      <td>[]</td>\n",
       "      <td>3</td>\n",
       "    </tr>\n",
       "    <tr>\n",
       "      <th>33</th>\n",
       "      <td>1</td>\n",
       "      <td>ENG</td>\n",
       "      <td>1905</td>\n",
       "      <td>FRA</td>\n",
       "      <td>RUS</td>\n",
       "      <td>AUS</td>\n",
       "      <td>[]</td>\n",
       "      <td>FRA</td>\n",
       "      <td>TUR</td>\n",
       "      <td>[]</td>\n",
       "      <td>...</td>\n",
       "      <td>[]</td>\n",
       "      <td>[]</td>\n",
       "      <td>[]</td>\n",
       "      <td>[]</td>\n",
       "      <td>ENG</td>\n",
       "      <td>[]</td>\n",
       "      <td>[]</td>\n",
       "      <td>FRA</td>\n",
       "      <td>[]</td>\n",
       "      <td>3</td>\n",
       "    </tr>\n",
       "  </tbody>\n",
       "</table>\n",
       "<p>5 rows × 125 columns</p>\n",
       "</div>"
      ],
      "text/plain": [
       "    GAME COUNTRY  YEAR NAPFLT GOBFLT SERAMY NWYAMY GASAMY AEGFLT TUNAMY  \\\n",
       "5      1     ENG  1901     []     []    AUS     []     []     []     []   \n",
       "12     1     ENG  1902     []    RUS    AUS     []     []    TUR     []   \n",
       "19     1     ENG  1903     []    RUS    AUS     []     []    TUR     []   \n",
       "26     1     ENG  1904     []    RUS    AUS     []    FRA    TUR     []   \n",
       "33     1     ENG  1905    FRA    RUS    AUS     []    FRA    TUR     []   \n",
       "\n",
       "    ...   MARFLT ROMFLT EDIAMY EDIFLT LONAMY NAPAMY NAOFLT MUNAMY LONFLT  \\\n",
       "5   ...       []     []     []     []     []     []     []    FRA     []   \n",
       "12  ...       []     []     []     []     []     []     []    FRA     []   \n",
       "19  ...       []     []     []     []     []     []     []    FRA     []   \n",
       "26  ...       []     []     []     []    ENG     []     []    FRA     []   \n",
       "33  ...       []     []     []     []    ENG     []     []    FRA     []   \n",
       "\n",
       "   OUTPUT  \n",
       "5       3  \n",
       "12      4  \n",
       "19      4  \n",
       "26      3  \n",
       "33      3  \n",
       "\n",
       "[5 rows x 125 columns]"
      ]
     },
     "execution_count": 5,
     "metadata": {},
     "output_type": "execute_result"
    }
   ],
   "source": [
    "eng_dataset.head()"
   ]
  },
  {
   "cell_type": "code",
   "execution_count": 6,
   "metadata": {
    "collapsed": true
   },
   "outputs": [],
   "source": [
    "from sklearn.utils import shuffle"
   ]
  },
  {
   "cell_type": "code",
   "execution_count": 7,
   "metadata": {},
   "outputs": [],
   "source": [
    "tX = eng_dataset.iloc[:, 0:124]\n",
    "tX = shuffle(tX)\n",
    "tX = tX.drop_duplicates('GAME')\n",
    "tX = tX.sort_values('GAME').iloc[:, 3:124]\n",
    "tY = eng_dataset.drop_duplicates('GAME', keep = 'last').iloc[:,124]"
   ]
  },
  {
   "cell_type": "code",
   "execution_count": 8,
   "metadata": {},
   "outputs": [
    {
     "data": {
      "text/html": [
       "<div>\n",
       "<table border=\"1\" class=\"dataframe\">\n",
       "  <thead>\n",
       "    <tr style=\"text-align: right;\">\n",
       "      <th></th>\n",
       "      <th>NAPFLT</th>\n",
       "      <th>GOBFLT</th>\n",
       "      <th>SERAMY</th>\n",
       "      <th>NWYAMY</th>\n",
       "      <th>GASAMY</th>\n",
       "      <th>AEGFLT</th>\n",
       "      <th>TUNAMY</th>\n",
       "      <th>NWYFLT</th>\n",
       "      <th>GASFLT</th>\n",
       "      <th>YORAMY</th>\n",
       "      <th>...</th>\n",
       "      <th>GALAMY</th>\n",
       "      <th>MARFLT</th>\n",
       "      <th>ROMFLT</th>\n",
       "      <th>EDIAMY</th>\n",
       "      <th>EDIFLT</th>\n",
       "      <th>LONAMY</th>\n",
       "      <th>NAPAMY</th>\n",
       "      <th>NAOFLT</th>\n",
       "      <th>MUNAMY</th>\n",
       "      <th>LONFLT</th>\n",
       "    </tr>\n",
       "  </thead>\n",
       "  <tbody>\n",
       "    <tr>\n",
       "      <th>40</th>\n",
       "      <td>FRA</td>\n",
       "      <td>RUS</td>\n",
       "      <td>AUS</td>\n",
       "      <td>[]</td>\n",
       "      <td>FRA</td>\n",
       "      <td>TUR</td>\n",
       "      <td>[]</td>\n",
       "      <td>RUS</td>\n",
       "      <td>[]</td>\n",
       "      <td>ENG</td>\n",
       "      <td>...</td>\n",
       "      <td>GER</td>\n",
       "      <td>[]</td>\n",
       "      <td>[]</td>\n",
       "      <td>[]</td>\n",
       "      <td>[]</td>\n",
       "      <td>ENG</td>\n",
       "      <td>[]</td>\n",
       "      <td>[]</td>\n",
       "      <td>FRA</td>\n",
       "      <td>[]</td>\n",
       "    </tr>\n",
       "    <tr>\n",
       "      <th>152</th>\n",
       "      <td>ITA</td>\n",
       "      <td>RUS</td>\n",
       "      <td>RUS</td>\n",
       "      <td>RUS</td>\n",
       "      <td>FRA</td>\n",
       "      <td>AUS</td>\n",
       "      <td>[]</td>\n",
       "      <td>RUS</td>\n",
       "      <td>[]</td>\n",
       "      <td>ENG</td>\n",
       "      <td>...</td>\n",
       "      <td>RUS</td>\n",
       "      <td>[]</td>\n",
       "      <td>ITA</td>\n",
       "      <td>[]</td>\n",
       "      <td>ENG</td>\n",
       "      <td>ENG</td>\n",
       "      <td>[]</td>\n",
       "      <td>ENG</td>\n",
       "      <td>GER</td>\n",
       "      <td>ENG</td>\n",
       "    </tr>\n",
       "    <tr>\n",
       "      <th>229</th>\n",
       "      <td>ITA</td>\n",
       "      <td>RUS</td>\n",
       "      <td>TUR</td>\n",
       "      <td>RUS</td>\n",
       "      <td>RUS</td>\n",
       "      <td>TUR</td>\n",
       "      <td>[]</td>\n",
       "      <td>ENG</td>\n",
       "      <td>[]</td>\n",
       "      <td>ENG</td>\n",
       "      <td>...</td>\n",
       "      <td>RUS</td>\n",
       "      <td>ITA</td>\n",
       "      <td>ITA</td>\n",
       "      <td>ENG</td>\n",
       "      <td>ENG</td>\n",
       "      <td>ENG</td>\n",
       "      <td>ITA</td>\n",
       "      <td>ENG</td>\n",
       "      <td>RUS</td>\n",
       "      <td>FRA</td>\n",
       "    </tr>\n",
       "    <tr>\n",
       "      <th>250</th>\n",
       "      <td>ITA</td>\n",
       "      <td>RUS</td>\n",
       "      <td>AUS</td>\n",
       "      <td>RUS</td>\n",
       "      <td>FRA</td>\n",
       "      <td>TUR</td>\n",
       "      <td>[]</td>\n",
       "      <td>RUS</td>\n",
       "      <td>[]</td>\n",
       "      <td>ENG</td>\n",
       "      <td>...</td>\n",
       "      <td>RUS</td>\n",
       "      <td>ITA</td>\n",
       "      <td>ITA</td>\n",
       "      <td>ENG</td>\n",
       "      <td>ENG</td>\n",
       "      <td>ENG</td>\n",
       "      <td>ITA</td>\n",
       "      <td>ENG</td>\n",
       "      <td>GER</td>\n",
       "      <td>ENG</td>\n",
       "    </tr>\n",
       "    <tr>\n",
       "      <th>418</th>\n",
       "      <td>ITA</td>\n",
       "      <td>RUS</td>\n",
       "      <td>RUS</td>\n",
       "      <td>RUS</td>\n",
       "      <td>FRA</td>\n",
       "      <td>TUR</td>\n",
       "      <td>[]</td>\n",
       "      <td>ENG</td>\n",
       "      <td>ITA</td>\n",
       "      <td>ENG</td>\n",
       "      <td>...</td>\n",
       "      <td>RUS</td>\n",
       "      <td>ITA</td>\n",
       "      <td>ITA</td>\n",
       "      <td>ENG</td>\n",
       "      <td>ENG</td>\n",
       "      <td>ENG</td>\n",
       "      <td>ITA</td>\n",
       "      <td>FRA</td>\n",
       "      <td>GER</td>\n",
       "      <td>ENG</td>\n",
       "    </tr>\n",
       "  </tbody>\n",
       "</table>\n",
       "<p>5 rows × 121 columns</p>\n",
       "</div>"
      ],
      "text/plain": [
       "    NAPFLT GOBFLT SERAMY NWYAMY GASAMY AEGFLT TUNAMY NWYFLT GASFLT YORAMY  \\\n",
       "40     FRA    RUS    AUS     []    FRA    TUR     []    RUS     []    ENG   \n",
       "152    ITA    RUS    RUS    RUS    FRA    AUS     []    RUS     []    ENG   \n",
       "229    ITA    RUS    TUR    RUS    RUS    TUR     []    ENG     []    ENG   \n",
       "250    ITA    RUS    AUS    RUS    FRA    TUR     []    RUS     []    ENG   \n",
       "418    ITA    RUS    RUS    RUS    FRA    TUR     []    ENG    ITA    ENG   \n",
       "\n",
       "     ...   GALAMY MARFLT ROMFLT EDIAMY EDIFLT LONAMY NAPAMY NAOFLT MUNAMY  \\\n",
       "40   ...      GER     []     []     []     []    ENG     []     []    FRA   \n",
       "152  ...      RUS     []    ITA     []    ENG    ENG     []    ENG    GER   \n",
       "229  ...      RUS    ITA    ITA    ENG    ENG    ENG    ITA    ENG    RUS   \n",
       "250  ...      RUS    ITA    ITA    ENG    ENG    ENG    ITA    ENG    GER   \n",
       "418  ...      RUS    ITA    ITA    ENG    ENG    ENG    ITA    FRA    GER   \n",
       "\n",
       "    LONFLT  \n",
       "40      []  \n",
       "152    ENG  \n",
       "229    FRA  \n",
       "250    ENG  \n",
       "418    ENG  \n",
       "\n",
       "[5 rows x 121 columns]"
      ]
     },
     "execution_count": 8,
     "metadata": {},
     "output_type": "execute_result"
    }
   ],
   "source": [
    "tX.head()"
   ]
  },
  {
   "cell_type": "code",
   "execution_count": 9,
   "metadata": {},
   "outputs": [
    {
     "data": {
      "text/plain": [
       "47      3\n",
       "152     4\n",
       "229     5\n",
       "341    10\n",
       "460     4\n",
       "Name: OUTPUT, dtype: int64"
      ]
     },
     "execution_count": 9,
     "metadata": {},
     "output_type": "execute_result"
    }
   ],
   "source": [
    "tY.head()"
   ]
  },
  {
   "cell_type": "code",
   "execution_count": 10,
   "metadata": {},
   "outputs": [
    {
     "name": "stdout",
     "output_type": "stream",
     "text": [
      "(3093, 121) (3093,)\n"
     ]
    }
   ],
   "source": [
    "print(tX.shape,tY.shape)"
   ]
  },
  {
   "cell_type": "code",
   "execution_count": 11,
   "metadata": {},
   "outputs": [],
   "source": [
    "X = tX.values\n",
    "y = tY.values"
   ]
  },
  {
   "cell_type": "markdown",
   "metadata": {},
   "source": [
    "## Encoding categorical data\n",
    "データの成形を行う"
   ]
  },
  {
   "cell_type": "code",
   "execution_count": 12,
   "metadata": {},
   "outputs": [],
   "source": [
    "from sklearn.preprocessing import LabelEncoder, OneHotEncoder\n",
    "\n",
    "##labelをエンコードする\n",
    "le = LabelEncoder()\n",
    "le.fit(['RUS','AUS','GER','TUR','FRA','ENG', 'ITA', '[]'])\n",
    "\n",
    "for i in range(121):\n",
    "    X[:, i] = le.transform(X[:, i])\n",
    "\n",
    "### Gender\n",
    "# labelencoder_X_2 = LabelEncoder()\n",
    "# X[:, 2] = labelencoder_X_2.fit_transform(X[:, 2]) "
   ]
  },
  {
   "cell_type": "code",
   "execution_count": 13,
   "metadata": {},
   "outputs": [],
   "source": [
    "onehotencoder = OneHotEncoder()\n",
    "X = onehotencoder.fit_transform(X).toarray()"
   ]
  },
  {
   "cell_type": "markdown",
   "metadata": {},
   "source": [
    "##  データセットと学習セットに分ける"
   ]
  },
  {
   "cell_type": "code",
   "execution_count": 15,
   "metadata": {},
   "outputs": [],
   "source": [
    "# Splitting the dataset into the Training set and Test set\n",
    "from sklearn.model_selection import train_test_split\n",
    "X_train, X_test, y_train, y_test = train_test_split(X, y, test_size = 0.2, random_state = 0)\n",
    "\n",
    "# Feature Scaling\n",
    "from sklearn.preprocessing import StandardScaler\n",
    "sc = StandardScaler()\n",
    "X_train = sc.fit_transform(X_train)\n",
    "X_test = sc.transform(X_test)"
   ]
  },
  {
   "cell_type": "markdown",
   "metadata": {},
   "source": [
    "# モデルの作成"
   ]
  },
  {
   "cell_type": "code",
   "execution_count": 16,
   "metadata": {},
   "outputs": [],
   "source": [
    "from sklearn import svm\n",
    "# from sklearn.grid_search import GridSearchCV\n",
    "from sklearn.model_selection import GridSearchCV"
   ]
  },
  {
   "cell_type": "code",
   "execution_count": 17,
   "metadata": {},
   "outputs": [
    {
     "data": {
      "image/png": "[encoded data removed]",
      "text/plain": [
       "<matplotlib.figure.Figure at 0x12b5abfd0>"
      ]
     },
     "metadata": {},
     "output_type": "display_data"
    },
    {
     "name": "stdout",
     "output_type": "stream",
     "text": [
      "0.309622846201\n"
     ]
    }
   ],
   "source": [
    "# tuned_parameters = [{'kernel': ['rbf'], 'gamma': [1e-3, 1e-4],\n",
    "#                      'C': [1, 10, 100, 1000]},\n",
    "#                     {'kernel': ['linear'], 'C': [1, 10, 100, 1000]}]\n",
    "# reg = GridSearchCV(svm.SVR(), tuned_parameters, cv=5, scoring='mean_squared_error')\n",
    "# reg = GridSearchCV(svm.SVR(), tuned_parameters, cv=5, scoring='mean_squared_error')\n",
    "# reg.fit(X_train, y_train)\n",
    "\n",
    "# サポートベクトル回帰を学習データ使って作成\n",
    "reg = svm.SVR(kernel='rbf', C=10).fit(X_train, y_train)\n",
    "\n",
    "# テストデータに対する予測結果のPLOT\n",
    "plt.plot(X_test, y_test, 'bo-', X_test, reg.predict(X_test), 'ro-')\n",
    "plt.show()\n",
    "\n",
    "print(reg.score(X_test, y_test))"
   ]
  },
  {
   "cell_type": "code",
   "execution_count": 18,
   "metadata": {},
   "outputs": [
    {
     "name": "stdout",
     "output_type": "stream",
     "text": [
      "3.4258922544754196\n"
     ]
    }
   ],
   "source": [
    "from sklearn.metrics import mean_squared_error\n",
    "from math import sqrt\n",
    "predict = reg.predict(X_test)\n",
    "print(sqrt(mean_squared_error(y_test, predict)))"
   ]
  },
  {
   "cell_type": "code",
   "execution_count": 19,
   "metadata": {},
   "outputs": [
    {
     "data": {
      "text/plain": [
       "['svm.learn']"
      ]
     },
     "execution_count": 19,
     "metadata": {},
     "output_type": "execute_result"
    }
   ],
   "source": [
    "from sklearn.externals import joblib\n",
    "# 予測モデルを出力\n",
    "joblib.dump(reg, 'svm.learn')"
   ]
  },
  {
   "cell_type": "code",
   "execution_count": null,
   "metadata": {
    "collapsed": true
   },
   "outputs": [],
   "source": []
  }
 ],
 "metadata": {
  "kernelspec": {
   "display_name": "Python 3",
   "language": "python",
   "name": "python3"
  },
  "language_info": {
   "codemirror_mode": {
    "name": "ipython",
    "version": 3
   },
   "file_extension": ".py",
   "mimetype": "text/x-python",
   "name": "python",
   "nbconvert_exporter": "python",
   "pygments_lexer": "ipython3",
   "version": "3.6.4"
  },
  "toc": {
   "nav_menu": {},
   "number_sections": true,
   "sideBar": false,
   "skip_h1_title": false,
   "toc_cell": false,
   "toc_position": {},
   "toc_section_display": "block",
   "toc_window_display": false
  }
 },
 "nbformat": 4,
 "nbformat_minor": 2
}
