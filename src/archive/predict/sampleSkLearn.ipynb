{
 "cells": [
  {
   "cell_type": "code",
   "execution_count": 1,
   "metadata": {
    "collapsed": true
   },
   "outputs": [],
   "source": [
    "import numpy as np\n",
    "import matplotlib.pyplot as plt\n",
    "import pandas as pd"
   ]
  },
  {
   "cell_type": "code",
   "execution_count": 2,
   "metadata": {
    "collapsed": false
   },
   "outputs": [],
   "source": [
    "dataset = pd.read_csv('../dataset/data01.csv')\n",
    "dataset = dataset.iloc[:, 1:126]\n",
    "\n",
    "rus_dataset = dataset[dataset.COUNTRY == 'RUS']\n",
    "aus_dataset = dataset[dataset.COUNTRY == 'AUS']\n",
    "ger_dataset = dataset[dataset.COUNTRY == 'GER']\n",
    "tur_dataset = dataset[dataset.COUNTRY == 'TUR']\n",
    "fra_dataset = dataset[dataset.COUNTRY == 'FRA']\n",
    "eng_dataset = dataset[dataset.COUNTRY == 'ENG']\n",
    "ita_dataset = dataset[dataset.COUNTRY == 'ITA']\n",
    "\n",
    "eng_dataset.head()\n",
    "\n",
    "from sklearn.utils import shuffle\n",
    "\n",
    "tX = eng_dataset.iloc[:, 0:124]\n",
    "tX = shuffle(tX)\n",
    "tX = tX.drop_duplicates('GAME')\n",
    "tX = tX.sort_values('GAME').iloc[:, 2:124]\n",
    "tY = eng_dataset.drop_duplicates('GAME', keep = 'last').iloc[:,124]\n",
    "\n",
    "X = tX.values\n",
    "y = tY.values\n",
    "\n",
    "from sklearn.preprocessing import LabelEncoder, OneHotEncoder\n",
    "##labelをエンコードする\n",
    "le = LabelEncoder()\n",
    "le.fit(['RUS','AUS','GER','TUR','FRA','ENG', 'ITA', '[]'])\n",
    "\n",
    "for i in range(121):\n",
    "    X[:, i+1] = le.transform(X[:, i+1])\n",
    "    \n",
    "onehotencoder = OneHotEncoder(categorical_features = [1])\n",
    "X = onehotencoder.fit_transform(X).toarray()\n",
    "\n",
    "# Splitting the dataset into the Training set and Test set\n",
    "from sklearn.model_selection import train_test_split\n",
    "X_train, X_test, y_train, y_test = train_test_split(X, y, test_size = 0.2, random_state = 0)\n",
    "\n",
    "# Feature Scaling\n",
    "from sklearn.preprocessing import StandardScaler\n",
    "sc = StandardScaler()\n",
    "X_train = sc.fit_transform(X_train)\n",
    "X_test = sc.transform(X_test) "
   ]
  },
  {
   "cell_type": "code",
   "execution_count": 3,
   "metadata": {
    "collapsed": true
   },
   "outputs": [],
   "source": [
    "from sklearn2pmml import PMMLPipeline\n",
    "from sklearn2pmml.decoration import ContinuousDomain\n",
    "from sklearn_pandas import DataFrameMapper\n",
    "from sklearn.decomposition import PCA\n",
    "from sklearn.feature_selection import SelectKBest\n",
    "from sklearn.preprocessing import Imputer\n",
    "from sklearn.linear_model import LogisticRegression"
   ]
  },
  {
   "cell_type": "code",
   "execution_count": 6,
   "metadata": {
    "collapsed": false
   },
   "outputs": [],
   "source": [
    "dip_pipeline = PMMLPipeline([\n",
    "    (\"pca\", PCA(n_components = 3)),\n",
    "    (\"selector\", SelectKBest(k = 2)),\n",
    "    (\"classifier\", LogisticRegression())\n",
    "])\n",
    "dip_pipeline.fit(X_train, y_train)\n",
    "\n",
    "from sklearn2pmml import sklearn2pmml\n",
    "\n",
    "sklearn2pmml(dip_pipeline, \"LogisticRegressionDip.pmml\", with_repr = True)"
   ]
  },
  {
   "cell_type": "code",
   "execution_count": null,
   "metadata": {
    "collapsed": true
   },
   "outputs": [],
   "source": []
  }
 ],
 "metadata": {
  "kernelspec": {
   "display_name": "Python 3",
   "language": "python",
   "name": "python3"
  },
  "language_info": {
   "codemirror_mode": {
    "name": "ipython",
    "version": 3
   },
   "file_extension": ".py",
   "mimetype": "text/x-python",
   "name": "python",
   "nbconvert_exporter": "python",
   "pygments_lexer": "ipython3",
   "version": "3.6.0"
  }
 },
 "nbformat": 4,
 "nbformat_minor": 2
}
