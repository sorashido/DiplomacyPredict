{
 "cells": [
  {
   "cell_type": "code",
   "execution_count": 1,
   "metadata": {},
   "outputs": [],
   "source": [
    "import pandas as pd\n",
    "import numpy as np"
   ]
  },
  {
   "cell_type": "code",
   "execution_count": 2,
   "metadata": {},
   "outputs": [],
   "source": [
    "games = pd.read_csv(\"../dataset/online-data/games.csv\")\n",
    "units = pd.read_csv(\"../dataset/online-data/units.csv\")\n",
    "orders = pd.read_csv(\"../dataset/online-data/orders.csv\")\n",
    "turns = pd.read_csv(\"../dataset/online-data/turns.csv\")\n",
    "players = pd.read_csv(\"../dataset/online-data/players.csv\")"
   ]
  },
  {
   "cell_type": "markdown",
   "metadata": {},
   "source": [
    "## データセットの確認\n",
    "|data|features|\n",
    "|---- | ----|\n",
    "| games | ゲームのid, ターン数, プレイヤー数|\n",
    "| players | ゲームのid, プレイヤーid, 勝利, 補給地の数, 敗退, 開始ターン, 終了ターン|\n",
    "| units | ゲームid, 国id, タイプ, 開始ターン, 終了ターン, ユニットid|\n",
    "| turns | ゲームid, ターンid, フェーズ, 年, 各国の補給地の数|\n",
    "| orders | ゲームのid, ユニットのid, オーダーの種類, 現在地, 目的地, 目標(convoy, support), 成功, 理由, ターンid|"
   ]
  },
  {
   "cell_type": "code",
   "execution_count": 3,
   "metadata": {},
   "outputs": [
    {
     "data": {
      "text/html": [
       "<div>\n",
       "<style scoped>\n",
       "    .dataframe tbody tr th:only-of-type {\n",
       "        vertical-align: middle;\n",
       "    }\n",
       "\n",
       "    .dataframe tbody tr th {\n",
       "        vertical-align: top;\n",
       "    }\n",
       "\n",
       "    .dataframe thead th {\n",
       "        text-align: right;\n",
       "    }\n",
       "</style>\n",
       "<table border=\"1\" class=\"dataframe\">\n",
       "  <thead>\n",
       "    <tr style=\"text-align: right;\">\n",
       "      <th></th>\n",
       "      <th>id</th>\n",
       "      <th>num_turns</th>\n",
       "      <th>num_players</th>\n",
       "    </tr>\n",
       "  </thead>\n",
       "  <tbody>\n",
       "    <tr>\n",
       "      <th>0</th>\n",
       "      <td>37317</td>\n",
       "      <td>166</td>\n",
       "      <td>7</td>\n",
       "    </tr>\n",
       "    <tr>\n",
       "      <th>1</th>\n",
       "      <td>37604</td>\n",
       "      <td>51</td>\n",
       "      <td>7</td>\n",
       "    </tr>\n",
       "    <tr>\n",
       "      <th>2</th>\n",
       "      <td>39337</td>\n",
       "      <td>101</td>\n",
       "      <td>7</td>\n",
       "    </tr>\n",
       "    <tr>\n",
       "      <th>3</th>\n",
       "      <td>40541</td>\n",
       "      <td>46</td>\n",
       "      <td>7</td>\n",
       "    </tr>\n",
       "    <tr>\n",
       "      <th>4</th>\n",
       "      <td>44755</td>\n",
       "      <td>96</td>\n",
       "      <td>7</td>\n",
       "    </tr>\n",
       "  </tbody>\n",
       "</table>\n",
       "</div>"
      ],
      "text/plain": [
       "      id  num_turns  num_players\n",
       "0  37317        166            7\n",
       "1  37604         51            7\n",
       "2  39337        101            7\n",
       "3  40541         46            7\n",
       "4  44755         96            7"
      ]
     },
     "execution_count": 3,
     "metadata": {},
     "output_type": "execute_result"
    }
   ],
   "source": [
    "games.head()"
   ]
  },
  {
   "cell_type": "code",
   "execution_count": 4,
   "metadata": {},
   "outputs": [
    {
     "data": {
      "text/html": [
       "<div>\n",
       "<style scoped>\n",
       "    .dataframe tbody tr th:only-of-type {\n",
       "        vertical-align: middle;\n",
       "    }\n",
       "\n",
       "    .dataframe tbody tr th {\n",
       "        vertical-align: top;\n",
       "    }\n",
       "\n",
       "    .dataframe thead th {\n",
       "        text-align: right;\n",
       "    }\n",
       "</style>\n",
       "<table border=\"1\" class=\"dataframe\">\n",
       "  <thead>\n",
       "    <tr style=\"text-align: right;\">\n",
       "      <th></th>\n",
       "      <th>game_id</th>\n",
       "      <th>country</th>\n",
       "      <th>won</th>\n",
       "      <th>num_supply_centers</th>\n",
       "      <th>eliminated</th>\n",
       "      <th>start_turn</th>\n",
       "      <th>end_turn</th>\n",
       "    </tr>\n",
       "  </thead>\n",
       "  <tbody>\n",
       "    <tr>\n",
       "      <th>0</th>\n",
       "      <td>114417</td>\n",
       "      <td>E</td>\n",
       "      <td>0</td>\n",
       "      <td>0</td>\n",
       "      <td>0</td>\n",
       "      <td>1</td>\n",
       "      <td>7</td>\n",
       "    </tr>\n",
       "    <tr>\n",
       "      <th>1</th>\n",
       "      <td>114417</td>\n",
       "      <td>F</td>\n",
       "      <td>0</td>\n",
       "      <td>9</td>\n",
       "      <td>0</td>\n",
       "      <td>1</td>\n",
       "      <td>21</td>\n",
       "    </tr>\n",
       "    <tr>\n",
       "      <th>2</th>\n",
       "      <td>114417</td>\n",
       "      <td>I</td>\n",
       "      <td>0</td>\n",
       "      <td>0</td>\n",
       "      <td>0</td>\n",
       "      <td>1</td>\n",
       "      <td>7</td>\n",
       "    </tr>\n",
       "    <tr>\n",
       "      <th>3</th>\n",
       "      <td>114417</td>\n",
       "      <td>G</td>\n",
       "      <td>0</td>\n",
       "      <td>4</td>\n",
       "      <td>0</td>\n",
       "      <td>1</td>\n",
       "      <td>17</td>\n",
       "    </tr>\n",
       "    <tr>\n",
       "      <th>4</th>\n",
       "      <td>114417</td>\n",
       "      <td>A</td>\n",
       "      <td>1</td>\n",
       "      <td>11</td>\n",
       "      <td>0</td>\n",
       "      <td>1</td>\n",
       "      <td>21</td>\n",
       "    </tr>\n",
       "  </tbody>\n",
       "</table>\n",
       "</div>"
      ],
      "text/plain": [
       "   game_id country  won  num_supply_centers  eliminated  start_turn  end_turn\n",
       "0   114417       E    0                   0           0           1         7\n",
       "1   114417       F    0                   9           0           1        21\n",
       "2   114417       I    0                   0           0           1         7\n",
       "3   114417       G    0                   4           0           1        17\n",
       "4   114417       A    1                  11           0           1        21"
      ]
     },
     "execution_count": 4,
     "metadata": {},
     "output_type": "execute_result"
    }
   ],
   "source": [
    "players.head()"
   ]
  },
  {
   "cell_type": "code",
   "execution_count": 5,
   "metadata": {},
   "outputs": [
    {
     "data": {
      "text/html": [
       "<div>\n",
       "<style scoped>\n",
       "    .dataframe tbody tr th:only-of-type {\n",
       "        vertical-align: middle;\n",
       "    }\n",
       "\n",
       "    .dataframe tbody tr th {\n",
       "        vertical-align: top;\n",
       "    }\n",
       "\n",
       "    .dataframe thead th {\n",
       "        text-align: right;\n",
       "    }\n",
       "</style>\n",
       "<table border=\"1\" class=\"dataframe\">\n",
       "  <thead>\n",
       "    <tr style=\"text-align: right;\">\n",
       "      <th></th>\n",
       "      <th>game_id</th>\n",
       "      <th>country</th>\n",
       "      <th>type</th>\n",
       "      <th>start_turn</th>\n",
       "      <th>end_turn</th>\n",
       "      <th>unit_id</th>\n",
       "    </tr>\n",
       "  </thead>\n",
       "  <tbody>\n",
       "    <tr>\n",
       "      <th>0</th>\n",
       "      <td>114417</td>\n",
       "      <td>E</td>\n",
       "      <td>F</td>\n",
       "      <td>0</td>\n",
       "      <td>7</td>\n",
       "      <td>0</td>\n",
       "    </tr>\n",
       "    <tr>\n",
       "      <th>1</th>\n",
       "      <td>114417</td>\n",
       "      <td>E</td>\n",
       "      <td>A</td>\n",
       "      <td>0</td>\n",
       "      <td>10</td>\n",
       "      <td>1</td>\n",
       "    </tr>\n",
       "    <tr>\n",
       "      <th>2</th>\n",
       "      <td>114417</td>\n",
       "      <td>E</td>\n",
       "      <td>F</td>\n",
       "      <td>0</td>\n",
       "      <td>13</td>\n",
       "      <td>2</td>\n",
       "    </tr>\n",
       "    <tr>\n",
       "      <th>3</th>\n",
       "      <td>114417</td>\n",
       "      <td>F</td>\n",
       "      <td>A</td>\n",
       "      <td>0</td>\n",
       "      <td>21</td>\n",
       "      <td>3</td>\n",
       "    </tr>\n",
       "    <tr>\n",
       "      <th>4</th>\n",
       "      <td>114417</td>\n",
       "      <td>F</td>\n",
       "      <td>A</td>\n",
       "      <td>0</td>\n",
       "      <td>21</td>\n",
       "      <td>4</td>\n",
       "    </tr>\n",
       "  </tbody>\n",
       "</table>\n",
       "</div>"
      ],
      "text/plain": [
       "   game_id country type  start_turn  end_turn  unit_id\n",
       "0   114417       E    F           0         7        0\n",
       "1   114417       E    A           0        10        1\n",
       "2   114417       E    F           0        13        2\n",
       "3   114417       F    A           0        21        3\n",
       "4   114417       F    A           0        21        4"
      ]
     },
     "execution_count": 5,
     "metadata": {},
     "output_type": "execute_result"
    }
   ],
   "source": [
    "units.head()"
   ]
  },
  {
   "cell_type": "code",
   "execution_count": 6,
   "metadata": {},
   "outputs": [
    {
     "data": {
      "text/html": [
       "<div>\n",
       "<style scoped>\n",
       "    .dataframe tbody tr th:only-of-type {\n",
       "        vertical-align: middle;\n",
       "    }\n",
       "\n",
       "    .dataframe tbody tr th {\n",
       "        vertical-align: top;\n",
       "    }\n",
       "\n",
       "    .dataframe thead th {\n",
       "        text-align: right;\n",
       "    }\n",
       "</style>\n",
       "<table border=\"1\" class=\"dataframe\">\n",
       "  <thead>\n",
       "    <tr style=\"text-align: right;\">\n",
       "      <th></th>\n",
       "      <th>game_id</th>\n",
       "      <th>turn_num</th>\n",
       "      <th>phase</th>\n",
       "      <th>year</th>\n",
       "      <th>season</th>\n",
       "      <th>scs_england</th>\n",
       "      <th>scs_france</th>\n",
       "      <th>scs_italy</th>\n",
       "      <th>scs_russia</th>\n",
       "      <th>scs_turkey</th>\n",
       "      <th>scs_germany</th>\n",
       "      <th>scs_austria</th>\n",
       "    </tr>\n",
       "  </thead>\n",
       "  <tbody>\n",
       "    <tr>\n",
       "      <th>0</th>\n",
       "      <td>114417</td>\n",
       "      <td>0</td>\n",
       "      <td>Winter</td>\n",
       "      <td>1900</td>\n",
       "      <td>Winter</td>\n",
       "      <td>3</td>\n",
       "      <td>3</td>\n",
       "      <td>3</td>\n",
       "      <td>4</td>\n",
       "      <td>3</td>\n",
       "      <td>3</td>\n",
       "      <td>3</td>\n",
       "    </tr>\n",
       "    <tr>\n",
       "      <th>1</th>\n",
       "      <td>114417</td>\n",
       "      <td>1</td>\n",
       "      <td>Orders</td>\n",
       "      <td>1901</td>\n",
       "      <td>Spring</td>\n",
       "      <td>3</td>\n",
       "      <td>3</td>\n",
       "      <td>3</td>\n",
       "      <td>4</td>\n",
       "      <td>3</td>\n",
       "      <td>3</td>\n",
       "      <td>3</td>\n",
       "    </tr>\n",
       "    <tr>\n",
       "      <th>2</th>\n",
       "      <td>114417</td>\n",
       "      <td>2</td>\n",
       "      <td>Orders</td>\n",
       "      <td>1901</td>\n",
       "      <td>Fall</td>\n",
       "      <td>3</td>\n",
       "      <td>3</td>\n",
       "      <td>3</td>\n",
       "      <td>4</td>\n",
       "      <td>3</td>\n",
       "      <td>3</td>\n",
       "      <td>3</td>\n",
       "    </tr>\n",
       "    <tr>\n",
       "      <th>3</th>\n",
       "      <td>114417</td>\n",
       "      <td>3</td>\n",
       "      <td>Build</td>\n",
       "      <td>1901</td>\n",
       "      <td>Fall</td>\n",
       "      <td>4</td>\n",
       "      <td>6</td>\n",
       "      <td>4</td>\n",
       "      <td>6</td>\n",
       "      <td>4</td>\n",
       "      <td>4</td>\n",
       "      <td>5</td>\n",
       "    </tr>\n",
       "    <tr>\n",
       "      <th>4</th>\n",
       "      <td>114417</td>\n",
       "      <td>4</td>\n",
       "      <td>Orders</td>\n",
       "      <td>1902</td>\n",
       "      <td>Spring</td>\n",
       "      <td>4</td>\n",
       "      <td>6</td>\n",
       "      <td>4</td>\n",
       "      <td>6</td>\n",
       "      <td>4</td>\n",
       "      <td>4</td>\n",
       "      <td>5</td>\n",
       "    </tr>\n",
       "  </tbody>\n",
       "</table>\n",
       "</div>"
      ],
      "text/plain": [
       "   game_id  turn_num   phase  year  season  scs_england  scs_france  \\\n",
       "0   114417         0  Winter  1900  Winter            3           3   \n",
       "1   114417         1  Orders  1901  Spring            3           3   \n",
       "2   114417         2  Orders  1901    Fall            3           3   \n",
       "3   114417         3   Build  1901    Fall            4           6   \n",
       "4   114417         4  Orders  1902  Spring            4           6   \n",
       "\n",
       "   scs_italy  scs_russia  scs_turkey  scs_germany  scs_austria  \n",
       "0          3           4           3            3            3  \n",
       "1          3           4           3            3            3  \n",
       "2          3           4           3            3            3  \n",
       "3          4           6           4            4            5  \n",
       "4          4           6           4            4            5  "
      ]
     },
     "execution_count": 6,
     "metadata": {},
     "output_type": "execute_result"
    }
   ],
   "source": [
    "turns.head()"
   ]
  },
  {
   "cell_type": "code",
   "execution_count": 7,
   "metadata": {},
   "outputs": [
    {
     "data": {
      "text/html": [
       "<div>\n",
       "<style scoped>\n",
       "    .dataframe tbody tr th:only-of-type {\n",
       "        vertical-align: middle;\n",
       "    }\n",
       "\n",
       "    .dataframe tbody tr th {\n",
       "        vertical-align: top;\n",
       "    }\n",
       "\n",
       "    .dataframe thead th {\n",
       "        text-align: right;\n",
       "    }\n",
       "</style>\n",
       "<table border=\"1\" class=\"dataframe\">\n",
       "  <thead>\n",
       "    <tr style=\"text-align: right;\">\n",
       "      <th></th>\n",
       "      <th>game_id</th>\n",
       "      <th>unit_id</th>\n",
       "      <th>unit_order</th>\n",
       "      <th>location</th>\n",
       "      <th>target</th>\n",
       "      <th>target_dest</th>\n",
       "      <th>success</th>\n",
       "      <th>reason</th>\n",
       "      <th>turn_num</th>\n",
       "    </tr>\n",
       "  </thead>\n",
       "  <tbody>\n",
       "    <tr>\n",
       "      <th>0</th>\n",
       "      <td>114417</td>\n",
       "      <td>0</td>\n",
       "      <td>MOVE</td>\n",
       "      <td>Edinburgh</td>\n",
       "      <td>Norwegian Sea</td>\n",
       "      <td>NaN</td>\n",
       "      <td>1</td>\n",
       "      <td>NaN</td>\n",
       "      <td>1</td>\n",
       "    </tr>\n",
       "    <tr>\n",
       "      <th>1</th>\n",
       "      <td>114417</td>\n",
       "      <td>1</td>\n",
       "      <td>MOVE</td>\n",
       "      <td>Liverpool</td>\n",
       "      <td>Yorkshire</td>\n",
       "      <td>NaN</td>\n",
       "      <td>1</td>\n",
       "      <td>NaN</td>\n",
       "      <td>1</td>\n",
       "    </tr>\n",
       "    <tr>\n",
       "      <th>2</th>\n",
       "      <td>114417</td>\n",
       "      <td>2</td>\n",
       "      <td>MOVE</td>\n",
       "      <td>London</td>\n",
       "      <td>North Sea</td>\n",
       "      <td>NaN</td>\n",
       "      <td>1</td>\n",
       "      <td>NaN</td>\n",
       "      <td>1</td>\n",
       "    </tr>\n",
       "    <tr>\n",
       "      <th>3</th>\n",
       "      <td>114417</td>\n",
       "      <td>3</td>\n",
       "      <td>MOVE</td>\n",
       "      <td>Marseilles</td>\n",
       "      <td>Spain</td>\n",
       "      <td>NaN</td>\n",
       "      <td>1</td>\n",
       "      <td>NaN</td>\n",
       "      <td>1</td>\n",
       "    </tr>\n",
       "    <tr>\n",
       "      <th>4</th>\n",
       "      <td>114417</td>\n",
       "      <td>4</td>\n",
       "      <td>MOVE</td>\n",
       "      <td>Paris</td>\n",
       "      <td>Picardy</td>\n",
       "      <td>NaN</td>\n",
       "      <td>1</td>\n",
       "      <td>NaN</td>\n",
       "      <td>1</td>\n",
       "    </tr>\n",
       "  </tbody>\n",
       "</table>\n",
       "</div>"
      ],
      "text/plain": [
       "   game_id  unit_id unit_order    location         target target_dest  \\\n",
       "0   114417        0       MOVE   Edinburgh  Norwegian Sea         NaN   \n",
       "1   114417        1       MOVE   Liverpool      Yorkshire         NaN   \n",
       "2   114417        2       MOVE      London      North Sea         NaN   \n",
       "3   114417        3       MOVE  Marseilles          Spain         NaN   \n",
       "4   114417        4       MOVE       Paris        Picardy         NaN   \n",
       "\n",
       "   success reason  turn_num  \n",
       "0        1    NaN         1  \n",
       "1        1    NaN         1  \n",
       "2        1    NaN         1  \n",
       "3        1    NaN         1  \n",
       "4        1    NaN         1  "
      ]
     },
     "execution_count": 7,
     "metadata": {},
     "output_type": "execute_result"
    }
   ],
   "source": [
    "orders.head()"
   ]
  },
  {
   "cell_type": "code",
   "execution_count": 8,
   "metadata": {},
   "outputs": [],
   "source": [
    "import seaborn as sns"
   ]
  },
  {
   "cell_type": "markdown",
   "metadata": {},
   "source": [
    "## データ分析\n",
    "### ゲーム概観"
   ]
  },
  {
   "cell_type": "code",
   "execution_count": 9,
   "metadata": {},
   "outputs": [
    {
     "data": {
      "text/plain": [
       "<matplotlib.axes._subplots.AxesSubplot at 0x10bb96c88>"
      ]
     },
     "execution_count": 9,
     "metadata": {},
     "output_type": "execute_result"
    },
    {
     "data": {
      "image/png": "[encoded data removed]",
      "text/plain": [
       "<matplotlib.figure.Figure at 0x10bb965c0>"
      ]
     },
     "metadata": {},
     "output_type": "display_data"
    }
   ],
   "source": [
    "# 1ゲームあたりのターン数\n",
    "sns.set()\n",
    "x = games['num_turns']\n",
    "sns.distplot(x, kde=False, rug=False, bins=100)"
   ]
  },
  {
   "cell_type": "code",
   "execution_count": 10,
   "metadata": {},
   "outputs": [
    {
     "data": {
      "text/plain": [
       "<matplotlib.axes._subplots.AxesSubplot at 0x109214a58>"
      ]
     },
     "execution_count": 10,
     "metadata": {},
     "output_type": "execute_result"
    },
    {
     "data": {
      "image/png": "[encoded data removed]",
      "text/plain": [
       "<matplotlib.figure.Figure at 0x118bc9a20>"
      ]
     },
     "metadata": {},
     "output_type": "display_data"
    }
   ],
   "source": [
    "# 国ごとの勝率比較\n",
    "sns.barplot(x=\"country\", y=\"won\", data = players)"
   ]
  },
  {
   "cell_type": "code",
   "execution_count": 11,
   "metadata": {},
   "outputs": [
    {
     "data": {
      "text/plain": [
       "<matplotlib.axes._subplots.AxesSubplot at 0x1092b16d8>"
      ]
     },
     "execution_count": 11,
     "metadata": {},
     "output_type": "execute_result"
    },
    {
     "data": {
      "image/png": "[encoded data removed]",
      "text/plain": [
       "<matplotlib.figure.Figure at 0x1091f16d8>"
      ]
     },
     "metadata": {},
     "output_type": "display_data"
    }
   ],
   "source": [
    "# 国ごとの補給地の数（平均, 勝ち負け別）\n",
    "sns.barplot(x=\"country\", y=\"num_supply_centers\", hue=\"won\", data = players)"
   ]
  },
  {
   "cell_type": "code",
   "execution_count": 12,
   "metadata": {},
   "outputs": [
    {
     "data": {
      "text/plain": [
       "<matplotlib.axes._subplots.AxesSubplot at 0x10c45a320>"
      ]
     },
     "execution_count": 12,
     "metadata": {},
     "output_type": "execute_result"
    },
    {
     "data": {
      "image/png": "[encoded data removed]",
      "text/plain": [
       "<matplotlib.figure.Figure at 0x10c5d5550>"
      ]
     },
     "metadata": {},
     "output_type": "display_data"
    }
   ],
   "source": [
    "# 国と補給地の数の相関を調べる\n",
    "correlation_matrix = np.corrcoef([players[(players[\"country\"] == \"E\")][\"end_turn\"],\n",
    "           players[(players[\"country\"] == \"F\")][\"end_turn\"],\n",
    "           players[(players[\"country\"] == \"I\")][\"end_turn\"],\n",
    "           players[(players[\"country\"] == \"G\")][\"end_turn\"],\n",
    "           players[(players[\"country\"] == \"A\")][\"end_turn\"],\n",
    "           players[(players[\"country\"] == \"T\")][\"end_turn\"],\n",
    "           players[(players[\"country\"] == \"R\")][\"end_turn\"]])\n",
    "sns.heatmap(correlation_matrix)"
   ]
  },
  {
   "cell_type": "code",
   "execution_count": 13,
   "metadata": {},
   "outputs": [
    {
     "data": {
      "text/plain": [
       "<matplotlib.axes._subplots.AxesSubplot at 0x1058960b8>"
      ]
     },
     "execution_count": 13,
     "metadata": {},
     "output_type": "execute_result"
    },
    {
     "data": {
      "image/png": "[encoded data removed]",
      "text/plain": [
       "<matplotlib.figure.Figure at 0x103994940>"
      ]
     },
     "metadata": {},
     "output_type": "display_data"
    }
   ],
   "source": [
    "# 国と補給地の数の相関を調べる\n",
    "correlation_matrix = np.corrcoef([players[(players[\"country\"] == \"E\")][\"num_supply_centers\"],\n",
    "           players[(players[\"country\"] == \"F\")][\"num_supply_centers\"],\n",
    "           players[(players[\"country\"] == \"I\")][\"num_supply_centers\"],\n",
    "           players[(players[\"country\"] == \"G\")][\"num_supply_centers\"],\n",
    "           players[(players[\"country\"] == \"A\")][\"num_supply_centers\"],\n",
    "           players[(players[\"country\"] == \"T\")][\"num_supply_centers\"],\n",
    "           players[(players[\"country\"] == \"R\")][\"num_supply_centers\"]])\n",
    "sns.heatmap(correlation_matrix)"
   ]
  },
  {
   "cell_type": "markdown",
   "metadata": {},
   "source": [
    "### unitの動きについて分析\n",
    "<img src=\"../img/maxresdefault.jpg\" width=\"300\">"
   ]
  },
  {
   "cell_type": "code",
   "execution_count": 14,
   "metadata": {},
   "outputs": [],
   "source": [
    "# 初手(Edinburgh -> )の遷移先\n",
    "# sns.barplot(x=\"target\", y=\"success\", data = orders[orders[\"turn_num\"]==1][orders[\"success\"]==1][orders[\"location\"]==\"Edinburgh\"], estimator=sum)\n",
    "# players.head()"
   ]
  },
  {
   "cell_type": "code",
   "execution_count": 15,
   "metadata": {},
   "outputs": [
    {
     "data": {
      "text/html": [
       "<div>\n",
       "<style scoped>\n",
       "    .dataframe tbody tr th:only-of-type {\n",
       "        vertical-align: middle;\n",
       "    }\n",
       "\n",
       "    .dataframe tbody tr th {\n",
       "        vertical-align: top;\n",
       "    }\n",
       "\n",
       "    .dataframe thead th {\n",
       "        text-align: right;\n",
       "    }\n",
       "</style>\n",
       "<table border=\"1\" class=\"dataframe\">\n",
       "  <thead>\n",
       "    <tr style=\"text-align: right;\">\n",
       "      <th></th>\n",
       "      <th>game_id</th>\n",
       "      <th>unit_id</th>\n",
       "      <th>unit_order</th>\n",
       "      <th>location</th>\n",
       "      <th>target</th>\n",
       "      <th>target_dest</th>\n",
       "      <th>success</th>\n",
       "      <th>reason</th>\n",
       "      <th>turn_num</th>\n",
       "      <th>country</th>\n",
       "      <th>type</th>\n",
       "      <th>start_turn_x</th>\n",
       "      <th>end_turn_x</th>\n",
       "      <th>won</th>\n",
       "      <th>num_supply_centers</th>\n",
       "      <th>eliminated</th>\n",
       "      <th>start_turn_y</th>\n",
       "      <th>end_turn_y</th>\n",
       "    </tr>\n",
       "  </thead>\n",
       "  <tbody>\n",
       "    <tr>\n",
       "      <th>0</th>\n",
       "      <td>114417</td>\n",
       "      <td>0</td>\n",
       "      <td>MOVE</td>\n",
       "      <td>Edinburgh</td>\n",
       "      <td>Norwegian Sea</td>\n",
       "      <td>NaN</td>\n",
       "      <td>1</td>\n",
       "      <td>NaN</td>\n",
       "      <td>1</td>\n",
       "      <td>E</td>\n",
       "      <td>F</td>\n",
       "      <td>0</td>\n",
       "      <td>7</td>\n",
       "      <td>0</td>\n",
       "      <td>0</td>\n",
       "      <td>0</td>\n",
       "      <td>1</td>\n",
       "      <td>7</td>\n",
       "    </tr>\n",
       "    <tr>\n",
       "      <th>1</th>\n",
       "      <td>114417</td>\n",
       "      <td>0</td>\n",
       "      <td>MOVE</td>\n",
       "      <td>Norwegian Sea</td>\n",
       "      <td>Norway</td>\n",
       "      <td>NaN</td>\n",
       "      <td>1</td>\n",
       "      <td>NaN</td>\n",
       "      <td>2</td>\n",
       "      <td>E</td>\n",
       "      <td>F</td>\n",
       "      <td>0</td>\n",
       "      <td>7</td>\n",
       "      <td>0</td>\n",
       "      <td>0</td>\n",
       "      <td>0</td>\n",
       "      <td>1</td>\n",
       "      <td>7</td>\n",
       "    </tr>\n",
       "    <tr>\n",
       "      <th>2</th>\n",
       "      <td>114417</td>\n",
       "      <td>0</td>\n",
       "      <td>SUPPORT</td>\n",
       "      <td>Norway</td>\n",
       "      <td>London</td>\n",
       "      <td>North Sea</td>\n",
       "      <td>0</td>\n",
       "      <td>Support cut by F Sweden - Norway</td>\n",
       "      <td>4</td>\n",
       "      <td>E</td>\n",
       "      <td>F</td>\n",
       "      <td>0</td>\n",
       "      <td>7</td>\n",
       "      <td>0</td>\n",
       "      <td>0</td>\n",
       "      <td>0</td>\n",
       "      <td>1</td>\n",
       "      <td>7</td>\n",
       "    </tr>\n",
       "    <tr>\n",
       "      <th>3</th>\n",
       "      <td>114417</td>\n",
       "      <td>0</td>\n",
       "      <td>HOLD</td>\n",
       "      <td>Norway</td>\n",
       "      <td>NaN</td>\n",
       "      <td>NaN</td>\n",
       "      <td>0</td>\n",
       "      <td>Dislodged by A St. Petersburg - Norway</td>\n",
       "      <td>6</td>\n",
       "      <td>E</td>\n",
       "      <td>F</td>\n",
       "      <td>0</td>\n",
       "      <td>7</td>\n",
       "      <td>0</td>\n",
       "      <td>0</td>\n",
       "      <td>0</td>\n",
       "      <td>1</td>\n",
       "      <td>7</td>\n",
       "    </tr>\n",
       "    <tr>\n",
       "      <th>4</th>\n",
       "      <td>114417</td>\n",
       "      <td>0</td>\n",
       "      <td>DESTROY</td>\n",
       "      <td>Norway</td>\n",
       "      <td>NaN</td>\n",
       "      <td>NaN</td>\n",
       "      <td>1</td>\n",
       "      <td>NaN</td>\n",
       "      <td>7</td>\n",
       "      <td>E</td>\n",
       "      <td>F</td>\n",
       "      <td>0</td>\n",
       "      <td>7</td>\n",
       "      <td>0</td>\n",
       "      <td>0</td>\n",
       "      <td>0</td>\n",
       "      <td>1</td>\n",
       "      <td>7</td>\n",
       "    </tr>\n",
       "  </tbody>\n",
       "</table>\n",
       "</div>"
      ],
      "text/plain": [
       "   game_id  unit_id unit_order       location         target target_dest  \\\n",
       "0   114417        0       MOVE      Edinburgh  Norwegian Sea         NaN   \n",
       "1   114417        0       MOVE  Norwegian Sea         Norway         NaN   \n",
       "2   114417        0    SUPPORT         Norway         London   North Sea   \n",
       "3   114417        0       HOLD         Norway            NaN         NaN   \n",
       "4   114417        0    DESTROY         Norway            NaN         NaN   \n",
       "\n",
       "   success                                  reason  turn_num country type  \\\n",
       "0        1                                     NaN         1       E    F   \n",
       "1        1                                     NaN         2       E    F   \n",
       "2        0        Support cut by F Sweden - Norway         4       E    F   \n",
       "3        0  Dislodged by A St. Petersburg - Norway         6       E    F   \n",
       "4        1                                     NaN         7       E    F   \n",
       "\n",
       "   start_turn_x  end_turn_x  won  num_supply_centers  eliminated  \\\n",
       "0             0           7    0                   0           0   \n",
       "1             0           7    0                   0           0   \n",
       "2             0           7    0                   0           0   \n",
       "3             0           7    0                   0           0   \n",
       "4             0           7    0                   0           0   \n",
       "\n",
       "   start_turn_y  end_turn_y  \n",
       "0             1           7  \n",
       "1             1           7  \n",
       "2             1           7  \n",
       "3             1           7  \n",
       "4             1           7  "
      ]
     },
     "execution_count": 15,
     "metadata": {},
     "output_type": "execute_result"
    }
   ],
   "source": [
    "# merge\n",
    "dataset = pd.merge(orders, units, on=['game_id', 'unit_id'])\n",
    "dataset = pd.merge(dataset, players, on=['game_id', 'country'])\n",
    "dataset.head()"
   ]
  },
  {
   "cell_type": "markdown",
   "metadata": {},
   "source": [
    "#### MOVEについて解析"
   ]
  },
  {
   "cell_type": "code",
   "execution_count": 31,
   "metadata": {},
   "outputs": [
    {
     "data": {
      "text/plain": [
       "<matplotlib.axes._subplots.AxesSubplot at 0x10f949518>"
      ]
     },
     "execution_count": 31,
     "metadata": {},
     "output_type": "execute_result"
    },
    {
     "data": {
      "image/png": "[encoded data removed]",
      "text/plain": [
       "<matplotlib.figure.Figure at 0x10e1ea6a0>"
      ]
     },
     "metadata": {},
     "output_type": "display_data"
    }
   ],
   "source": [
    "# Edinburghから移動先の頻度\n",
    "data = dataset[(dataset[\"turn_num\"]==1) & (dataset[\"success\"]==1) & (dataset[\"location\"]==\"Edinburgh\") & (dataset[\"unit_order\"]==\"MOVE\")]\n",
    "sns.barplot(x=\"target\", y=\"success\", data = data, hue=\"won\", estimator=sum)"
   ]
  },
  {
   "cell_type": "code",
   "execution_count": 52,
   "metadata": {},
   "outputs": [
    {
     "data": {
      "text/plain": [
       "<matplotlib.axes._subplots.AxesSubplot at 0x118957978>"
      ]
     },
     "execution_count": 52,
     "metadata": {},
     "output_type": "execute_result"
    },
    {
     "data": {
      "image/png": "[encoded data removed]",
      "text/plain": [
       "<matplotlib.figure.Figure at 0x10f1f6f28>"
      ]
     },
     "metadata": {},
     "output_type": "display_data"
    }
   ],
   "source": [
    "# turn 1の位置頻度，国毎, win毎\n",
    "data = dataset[(dataset[\"turn_num\"]==1) & (dataset[\"country\"]==\"E\") & (dataset[\"unit_order\"]==\"MOVE\") & (dataset[\"success\"]==1)]\n",
    "sns.barplot(x=\"target\", y=\"success\", data = data, hue=\"won\", estimator=sum)"
   ]
  },
  {
   "cell_type": "code",
   "execution_count": 53,
   "metadata": {},
   "outputs": [
    {
     "data": {
      "text/plain": [
       "<matplotlib.axes._subplots.AxesSubplot at 0x119350cc0>"
      ]
     },
     "execution_count": 53,
     "metadata": {},
     "output_type": "execute_result"
    },
    {
     "data": {
      "image/png": "[encoded data removed]",
      "text/plain": [
       "<matplotlib.figure.Figure at 0x118a888d0>"
      ]
     },
     "metadata": {},
     "output_type": "display_data"
    }
   ],
   "source": [
    "data = dataset[(dataset[\"turn_num\"]==1) & (dataset[\"country\"]==\"F\") & (dataset[\"unit_order\"]==\"MOVE\") & (dataset[\"success\"]==1)]\n",
    "sns.barplot(x=\"target\", y=\"success\", data = data, hue=\"won\", estimator=sum)"
   ]
  },
  {
   "cell_type": "code",
   "execution_count": 54,
   "metadata": {},
   "outputs": [
    {
     "data": {
      "text/plain": [
       "<matplotlib.axes._subplots.AxesSubplot at 0x1193956d8>"
      ]
     },
     "execution_count": 54,
     "metadata": {},
     "output_type": "execute_result"
    },
    {
     "data": {
      "image/png": "[encoded data removed]",
      "text/plain": [
       "<matplotlib.figure.Figure at 0x11934a0b8>"
      ]
     },
     "metadata": {},
     "output_type": "display_data"
    }
   ],
   "source": [
    "data = dataset[(dataset[\"turn_num\"]==1) & (dataset[\"country\"]==\"I\") & (dataset[\"unit_order\"]==\"MOVE\") & (dataset[\"success\"]==1)]\n",
    "sns.barplot(x=\"target\", y=\"success\", data = data, hue=\"won\", estimator=sum)"
   ]
  },
  {
   "cell_type": "code",
   "execution_count": 55,
   "metadata": {},
   "outputs": [
    {
     "data": {
      "text/plain": [
       "<matplotlib.axes._subplots.AxesSubplot at 0x11a3eeac8>"
      ]
     },
     "execution_count": 55,
     "metadata": {},
     "output_type": "execute_result"
    },
    {
     "data": {
      "image/png": "[encoded data removed]",
      "text/plain": [
       "<matplotlib.figure.Figure at 0x119330710>"
      ]
     },
     "metadata": {},
     "output_type": "display_data"
    }
   ],
   "source": [
    "data = dataset[(dataset[\"turn_num\"]==1) & (dataset[\"country\"]==\"G\") & (dataset[\"unit_order\"]==\"MOVE\") & (dataset[\"success\"]==1)]\n",
    "sns.barplot(x=\"target\", y=\"success\", data = data, hue=\"won\", estimator=sum)"
   ]
  },
  {
   "cell_type": "code",
   "execution_count": 56,
   "metadata": {},
   "outputs": [
    {
     "data": {
      "text/plain": [
       "<matplotlib.axes._subplots.AxesSubplot at 0x11671d0f0>"
      ]
     },
     "execution_count": 56,
     "metadata": {},
     "output_type": "execute_result"
    },
    {
     "data": {
      "image/png": "[encoded data removed]",
      "text/plain": [
       "<matplotlib.figure.Figure at 0x116c6bac8>"
      ]
     },
     "metadata": {},
     "output_type": "display_data"
    }
   ],
   "source": [
    "data = dataset[(dataset[\"turn_num\"]==1) & (dataset[\"country\"]==\"A\") & (dataset[\"unit_order\"]==\"MOVE\") & (dataset[\"success\"]==1)]\n",
    "sns.barplot(x=\"target\", y=\"success\", data = data, hue=\"won\", estimator=sum)"
   ]
  },
  {
   "cell_type": "code",
   "execution_count": 57,
   "metadata": {},
   "outputs": [
    {
     "data": {
      "text/plain": [
       "<matplotlib.axes._subplots.AxesSubplot at 0x10eb7cda0>"
      ]
     },
     "execution_count": 57,
     "metadata": {},
     "output_type": "execute_result"
    },
    {
     "data": {
      "image/png": "[encoded data removed]",
      "text/plain": [
       "<matplotlib.figure.Figure at 0x10eb0c668>"
      ]
     },
     "metadata": {},
     "output_type": "display_data"
    }
   ],
   "source": [
    "data = dataset[(dataset[\"turn_num\"]==1) & (dataset[\"country\"]==\"T\") & (dataset[\"unit_order\"]==\"MOVE\") & (dataset[\"success\"]==1)]\n",
    "sns.barplot(x=\"target\", y=\"success\", data = data, hue=\"won\", estimator=sum)"
   ]
  },
  {
   "cell_type": "code",
   "execution_count": 58,
   "metadata": {},
   "outputs": [
    {
     "data": {
      "text/plain": [
       "<matplotlib.axes._subplots.AxesSubplot at 0x10f69c438>"
      ]
     },
     "execution_count": 58,
     "metadata": {},
     "output_type": "execute_result"
    },
    {
     "data": {
      "image/png": "[encoded data removed]",
      "text/plain": [
       "<matplotlib.figure.Figure at 0x10f8d0898>"
      ]
     },
     "metadata": {},
     "output_type": "display_data"
    }
   ],
   "source": [
    "data = dataset[(dataset[\"turn_num\"]==1) & (dataset[\"country\"]==\"R\") & (dataset[\"unit_order\"]==\"MOVE\") & (dataset[\"success\"]==1)]\n",
    "sns.barplot(x=\"target\", y=\"success\", data = data, hue=\"won\", estimator=sum)"
   ]
  },
  {
   "cell_type": "code",
   "execution_count": null,
   "metadata": {},
   "outputs": [],
   "source": []
  }
 ],
 "metadata": {
  "kernelspec": {
   "display_name": "Python 3",
   "language": "python",
   "name": "python3"
  },
  "language_info": {
   "codemirror_mode": {
    "name": "ipython",
    "version": 3
   },
   "file_extension": ".py",
   "mimetype": "text/x-python",
   "name": "python",
   "nbconvert_exporter": "python",
   "pygments_lexer": "ipython3",
   "version": "3.6.4"
  },
  "toc": {
   "nav_menu": {},
   "number_sections": true,
   "sideBar": false,
   "skip_h1_title": false,
   "toc_cell": false,
   "toc_position": {},
   "toc_section_display": "block",
   "toc_window_display": false
  }
 },
 "nbformat": 4,
 "nbformat_minor": 2
}
