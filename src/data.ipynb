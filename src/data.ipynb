{
 "cells": [
  {
   "cell_type": "code",
   "execution_count": 10,
   "metadata": {},
   "outputs": [],
   "source": [
    "import pandas as pd\n",
    "import numpy as np\n",
    "import seaborn as sns\n",
    "sns.set(style='white', context='notebook', palette='Set2')\n",
    "\n",
    "import matplotlib.pyplot as plt\n",
    "%matplotlib inline"
   ]
  },
  {
   "cell_type": "code",
   "execution_count": 17,
   "metadata": {},
   "outputs": [],
   "source": [
    "dataset = pd.read_csv(\"../dataset/online-data/dataset.csv\")\n",
    "dataset = dataset.drop(columns=[\"Unnamed: 0\"])"
   ]
  },
  {
   "cell_type": "code",
   "execution_count": 18,
   "metadata": {},
   "outputs": [],
   "source": [
    "dataset = dataset.replace( '\\n', '', regex=True)\n",
    "dataset = dataset.replace( '\\r', ',', regex=True)\n",
    "dataset = dataset.replace( 'Name: target, dtype: int64', '', regex=True)\n",
    "dataset = dataset.replace( 'Name: location, dtype: int64', '', regex=True)"
   ]
  },
  {
   "cell_type": "code",
   "execution_count": 19,
   "metadata": {},
   "outputs": [],
   "source": [
    "dataset = dataset.replace({'Edinburgh': 'EDI', 'Liverpool': 'LVP', 'London': 'LON', 'Marseilles': 'MAR', 'Paris': 'PAR', 'Brest': 'BRE',\n",
    "       'Venice': 'VEN', 'Rome': 'ROM', 'Naples': 'NAP', 'Munich': 'MUN', 'Berlin': 'BER', 'Kiel': 'KIE', 'Vienna': 'VIE',\n",
    "       'Trieste': 'TRI', 'Budapest': 'BUD', 'Constantinople': 'CON', 'Ankara': 'ANK', 'Smyrna': 'SMY',\n",
    "       'Moscow': 'MOS', 'St. Petersburg (South Coast)': '', 'Warsaw': 'WAR', 'Sevastopol': 'SEV',\n",
    "       'Norwegian Sea': 'NWG', 'Yorkshire': 'YOR', 'North Sea': 'NTH', 'Spain': 'SPA', 'Picardy': 'PIC',\n",
    "       'Mid-Atlantic Ocean': 'MAO', 'Tyrrhenian Sea': 'TYS', 'Silesia': 'SIL', 'Holland': 'HOL',\n",
    "       'Albania': 'ALB', 'Serbia': 'SER', 'Bulgaria': 'BUL', 'St. Petersburg': 'STP',\n",
    "       'Gulf of Bothnia': 'GOB', 'Ukraine': 'UKR', 'Norway': 'NWY', 'Belgium': 'BEL', 'Portugal': 'POR',\n",
    "       'Piedmont': 'PIA', 'Tunis': 'TUN', 'Galicia': 'GAL', 'Greece': 'GRE', 'Black Sea': 'BLA', 'Finland': 'FIN',\n",
    "       'Sweden': 'SWE', 'Rumania': 'RUM', 'Helgoland Bight': 'HEL', 'Burgundy': 'BUR',\n",
    "       'English Channel': 'ENC', 'Tyrolia': 'TYR', 'Ionian Sea': 'IOS', 'Denmark': 'DEN', 'Wales': 'WAL',\n",
    "       'Irish Sea': 'IRS', 'Armenia': 'ARM', 'St. Petersburg (North Coast)': 'STPNC',\n",
    "       'North Atlantic Ocean': 'NAO', 'Ruhr': 'RUH', 'Aegean Sea': 'AES', 'Apulia': 'APU',\n",
    "       'Skagerrack': 'SKA', 'nan': 'NAN', 'Gascony': 'GAS', 'Prussia': 'PRU', 'Barents Sea': 'BAR', 'Bohemia': 'BOH',\n",
    "       'Adriatic Sea': 'ADS', 'Western Mediterranean': 'WMS', 'Tuscany': 'TUS', 'Baltic Sea': 'BAL',\n",
    "       'Gulf of Lyons': 'GOL', 'Eastern Mediterranean': 'EMS', 'Spain (North Coast)': 'SPNC',\n",
    "       'Syria': 'SYR', 'Livonia': 'LIV', 'Clyde': 'CLY', 'Spain (South Coast)': 'SPSC', 'North Africa': 'NAF',\n",
    "       'Bulgaria (South Coast)': 'BUSC', 'Bulgaria (East Coast)':'BUEC'}, regex=True)"
   ]
  },
  {
   "cell_type": "code",
   "execution_count": 20,
   "metadata": {},
   "outputs": [],
   "source": [
    "dataset = dataset.replace( ' ', '', regex=True)"
   ]
  },
  {
   "cell_type": "code",
   "execution_count": 21,
   "metadata": {},
   "outputs": [
    {
     "data": {
      "text/html": [
       "<div>\n",
       "<style scoped>\n",
       "    .dataframe tbody tr th:only-of-type {\n",
       "        vertical-align: middle;\n",
       "    }\n",
       "\n",
       "    .dataframe tbody tr th {\n",
       "        vertical-align: top;\n",
       "    }\n",
       "\n",
       "    .dataframe thead th {\n",
       "        text-align: right;\n",
       "    }\n",
       "</style>\n",
       "<table border=\"1\" class=\"dataframe\">\n",
       "  <thead>\n",
       "    <tr style=\"text-align: right;\">\n",
       "      <th></th>\n",
       "      <th>in</th>\n",
       "      <th>out1</th>\n",
       "      <th>out2</th>\n",
       "    </tr>\n",
       "  </thead>\n",
       "  <tbody>\n",
       "    <tr>\n",
       "      <th>0</th>\n",
       "      <td>1901SpringE</td>\n",
       "      <td>EDI3556,LVP3491,LON3371,</td>\n",
       "      <td>EDI24689,LVP24015,LON22896,</td>\n",
       "    </tr>\n",
       "    <tr>\n",
       "      <th>1</th>\n",
       "      <td>1901SpringF</td>\n",
       "      <td>PAR3730,MAR3658,BRE3590,</td>\n",
       "      <td>MAR24595,PAR24037,BRE23145,</td>\n",
       "    </tr>\n",
       "    <tr>\n",
       "      <th>2</th>\n",
       "      <td>1901SpringI</td>\n",
       "      <td>NAP2417,ROM2272,VEN2118,</td>\n",
       "      <td>NAP24629,ROM22885,VEN22376,</td>\n",
       "    </tr>\n",
       "    <tr>\n",
       "      <th>3</th>\n",
       "      <td>1901SpringG</td>\n",
       "      <td>KIE4129,BER3996,MUN3545,</td>\n",
       "      <td>KIE25787,BER24326,MUN22445,</td>\n",
       "    </tr>\n",
       "    <tr>\n",
       "      <th>4</th>\n",
       "      <td>1901SpringA</td>\n",
       "      <td>BUD3501,TRI3310,VIE2844,</td>\n",
       "      <td>BUD23956,TRI23018,VIE19703,</td>\n",
       "    </tr>\n",
       "  </tbody>\n",
       "</table>\n",
       "</div>"
      ],
      "text/plain": [
       "            in                      out1                         out2\n",
       "0  1901SpringE  EDI3556,LVP3491,LON3371,  EDI24689,LVP24015,LON22896,\n",
       "1  1901SpringF  PAR3730,MAR3658,BRE3590,  MAR24595,PAR24037,BRE23145,\n",
       "2  1901SpringI  NAP2417,ROM2272,VEN2118,  NAP24629,ROM22885,VEN22376,\n",
       "3  1901SpringG  KIE4129,BER3996,MUN3545,  KIE25787,BER24326,MUN22445,\n",
       "4  1901SpringA  BUD3501,TRI3310,VIE2844,  BUD23956,TRI23018,VIE19703,"
      ]
     },
     "execution_count": 21,
     "metadata": {},
     "output_type": "execute_result"
    }
   ],
   "source": [
    "dataset.head()"
   ]
  },
  {
   "cell_type": "code",
   "execution_count": 22,
   "metadata": {},
   "outputs": [],
   "source": [
    "dataset.to_csv(\"new.csv\")"
   ]
  }
 ],
 "metadata": {
  "kernelspec": {
   "display_name": "Python 3",
   "language": "python",
   "name": "python3"
  },
  "language_info": {
   "codemirror_mode": {
    "name": "ipython",
    "version": 3
   },
   "file_extension": ".py",
   "mimetype": "text/x-python",
   "name": "python",
   "nbconvert_exporter": "python",
   "pygments_lexer": "ipython3",
   "version": "3.6.4"
  }
 },
 "nbformat": 4,
 "nbformat_minor": 2
}
