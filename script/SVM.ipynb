{
 "cells": [
  {
   "cell_type": "code",
   "execution_count": 1,
   "metadata": {
    "collapsed": true
   },
   "outputs": [],
   "source": [
    "import numpy as np\n",
    "import matplotlib.pyplot as plt\n",
    "import pandas as pd"
   ]
  },
  {
   "cell_type": "markdown",
   "metadata": {},
   "source": [
    "## import dataset"
   ]
  },
  {
   "cell_type": "code",
   "execution_count": 44,
   "metadata": {
    "collapsed": false
   },
   "outputs": [],
   "source": [
    "dataset = pd.read_csv('employee.csv')\n",
    "dataset = dataset.iloc[:, 1:126]\n",
    "\n",
    "# tX = dataset.iloc[:, 2:124]\n",
    "# tY = dataset.iloc[:, 125]\n",
    "# X = dataset.iloc[:, 2:123].values #idや名前は除去(特徴量ではない)\n",
    "# y = dataset.iloc[:, 125].values #output(0 or 1) "
   ]
  },
  {
   "cell_type": "code",
   "execution_count": 45,
   "metadata": {
    "collapsed": false
   },
   "outputs": [
    {
     "data": {
      "text/html": [
       "<div>\n",
       "<table border=\"1\" class=\"dataframe\">\n",
       "  <thead>\n",
       "    <tr style=\"text-align: right;\">\n",
       "      <th></th>\n",
       "      <th>GAME</th>\n",
       "      <th>COUNTRY</th>\n",
       "      <th>YEAR</th>\n",
       "      <th>NAPFLT</th>\n",
       "      <th>GOBFLT</th>\n",
       "      <th>SERAMY</th>\n",
       "      <th>NWYAMY</th>\n",
       "      <th>GASAMY</th>\n",
       "      <th>AEGFLT</th>\n",
       "      <th>TUNAMY</th>\n",
       "      <th>...</th>\n",
       "      <th>MARFLT</th>\n",
       "      <th>ROMFLT</th>\n",
       "      <th>EDIAMY</th>\n",
       "      <th>EDIFLT</th>\n",
       "      <th>LONAMY</th>\n",
       "      <th>NAPAMY</th>\n",
       "      <th>NAOFLT</th>\n",
       "      <th>MUNAMY</th>\n",
       "      <th>LONFLT</th>\n",
       "      <th>OUTPUT</th>\n",
       "    </tr>\n",
       "  </thead>\n",
       "  <tbody>\n",
       "    <tr>\n",
       "      <th>0</th>\n",
       "      <td>1.0</td>\n",
       "      <td>RUS</td>\n",
       "      <td>1901</td>\n",
       "      <td>[]</td>\n",
       "      <td>[]</td>\n",
       "      <td>[]</td>\n",
       "      <td>[]</td>\n",
       "      <td>[]</td>\n",
       "      <td>[]</td>\n",
       "      <td>[]</td>\n",
       "      <td>...</td>\n",
       "      <td>[]</td>\n",
       "      <td>[]</td>\n",
       "      <td>[]</td>\n",
       "      <td>[]</td>\n",
       "      <td>[]</td>\n",
       "      <td>[]</td>\n",
       "      <td>[]</td>\n",
       "      <td>[]</td>\n",
       "      <td>[]</td>\n",
       "      <td>4.0</td>\n",
       "    </tr>\n",
       "    <tr>\n",
       "      <th>1</th>\n",
       "      <td>1.0</td>\n",
       "      <td>AUS</td>\n",
       "      <td>1901</td>\n",
       "      <td>[]</td>\n",
       "      <td>[]</td>\n",
       "      <td>AUS</td>\n",
       "      <td>[]</td>\n",
       "      <td>[]</td>\n",
       "      <td>[]</td>\n",
       "      <td>[]</td>\n",
       "      <td>...</td>\n",
       "      <td>[]</td>\n",
       "      <td>[]</td>\n",
       "      <td>[]</td>\n",
       "      <td>[]</td>\n",
       "      <td>[]</td>\n",
       "      <td>[]</td>\n",
       "      <td>[]</td>\n",
       "      <td>[]</td>\n",
       "      <td>[]</td>\n",
       "      <td>4.0</td>\n",
       "    </tr>\n",
       "    <tr>\n",
       "      <th>2</th>\n",
       "      <td>1.0</td>\n",
       "      <td>GER</td>\n",
       "      <td>1901</td>\n",
       "      <td>[]</td>\n",
       "      <td>[]</td>\n",
       "      <td>AUS</td>\n",
       "      <td>[]</td>\n",
       "      <td>[]</td>\n",
       "      <td>[]</td>\n",
       "      <td>[]</td>\n",
       "      <td>...</td>\n",
       "      <td>[]</td>\n",
       "      <td>[]</td>\n",
       "      <td>[]</td>\n",
       "      <td>[]</td>\n",
       "      <td>[]</td>\n",
       "      <td>[]</td>\n",
       "      <td>[]</td>\n",
       "      <td>[]</td>\n",
       "      <td>[]</td>\n",
       "      <td>4.0</td>\n",
       "    </tr>\n",
       "    <tr>\n",
       "      <th>3</th>\n",
       "      <td>1.0</td>\n",
       "      <td>TUR</td>\n",
       "      <td>1901</td>\n",
       "      <td>[]</td>\n",
       "      <td>[]</td>\n",
       "      <td>AUS</td>\n",
       "      <td>[]</td>\n",
       "      <td>[]</td>\n",
       "      <td>[]</td>\n",
       "      <td>[]</td>\n",
       "      <td>...</td>\n",
       "      <td>[]</td>\n",
       "      <td>[]</td>\n",
       "      <td>[]</td>\n",
       "      <td>[]</td>\n",
       "      <td>[]</td>\n",
       "      <td>[]</td>\n",
       "      <td>[]</td>\n",
       "      <td>[]</td>\n",
       "      <td>[]</td>\n",
       "      <td>4.0</td>\n",
       "    </tr>\n",
       "    <tr>\n",
       "      <th>4</th>\n",
       "      <td>1.0</td>\n",
       "      <td>FRA</td>\n",
       "      <td>1901</td>\n",
       "      <td>[]</td>\n",
       "      <td>[]</td>\n",
       "      <td>AUS</td>\n",
       "      <td>[]</td>\n",
       "      <td>[]</td>\n",
       "      <td>[]</td>\n",
       "      <td>[]</td>\n",
       "      <td>...</td>\n",
       "      <td>[]</td>\n",
       "      <td>[]</td>\n",
       "      <td>[]</td>\n",
       "      <td>[]</td>\n",
       "      <td>[]</td>\n",
       "      <td>[]</td>\n",
       "      <td>[]</td>\n",
       "      <td>FRA</td>\n",
       "      <td>[]</td>\n",
       "      <td>6.0</td>\n",
       "    </tr>\n",
       "  </tbody>\n",
       "</table>\n",
       "<p>5 rows × 125 columns</p>\n",
       "</div>"
      ],
      "text/plain": [
       "   GAME COUNTRY  YEAR NAPFLT GOBFLT SERAMY NWYAMY GASAMY AEGFLT TUNAMY  ...    \\\n",
       "0   1.0     RUS  1901     []     []     []     []     []     []     []  ...     \n",
       "1   1.0     AUS  1901     []     []    AUS     []     []     []     []  ...     \n",
       "2   1.0     GER  1901     []     []    AUS     []     []     []     []  ...     \n",
       "3   1.0     TUR  1901     []     []    AUS     []     []     []     []  ...     \n",
       "4   1.0     FRA  1901     []     []    AUS     []     []     []     []  ...     \n",
       "\n",
       "  MARFLT ROMFLT EDIAMY EDIFLT LONAMY NAPAMY NAOFLT MUNAMY LONFLT OUTPUT  \n",
       "0     []     []     []     []     []     []     []     []     []    4.0  \n",
       "1     []     []     []     []     []     []     []     []     []    4.0  \n",
       "2     []     []     []     []     []     []     []     []     []    4.0  \n",
       "3     []     []     []     []     []     []     []     []     []    4.0  \n",
       "4     []     []     []     []     []     []     []    FRA     []    6.0  \n",
       "\n",
       "[5 rows x 125 columns]"
      ]
     },
     "execution_count": 45,
     "metadata": {},
     "output_type": "execute_result"
    }
   ],
   "source": [
    "dataset.head()"
   ]
  },
  {
   "cell_type": "markdown",
   "metadata": {},
   "source": [
    "国別に分けて, outputのデータを最終年の補給地の数にする"
   ]
  },
  {
   "cell_type": "code",
   "execution_count": 46,
   "metadata": {
    "collapsed": false
   },
   "outputs": [],
   "source": [
    "rus_dataset = dataset[dataset.COUNTRY == 'RUS']\n",
    "aus_dataset = dataset[dataset.COUNTRY == 'AUS']\n",
    "ger_dataset = dataset[dataset.COUNTRY == 'GER']\n",
    "tur_dataset = dataset[dataset.COUNTRY == 'TUR']\n",
    "fra_dataset = dataset[dataset.COUNTRY == 'FRA']\n",
    "eng_dataset = dataset[dataset.COUNTRY == 'ENG']\n",
    "ita_dataset = dataset[dataset.COUNTRY == 'ITA']"
   ]
  },
  {
   "cell_type": "code",
   "execution_count": 47,
   "metadata": {
    "collapsed": false
   },
   "outputs": [
    {
     "data": {
      "text/html": [
       "<div>\n",
       "<table border=\"1\" class=\"dataframe\">\n",
       "  <thead>\n",
       "    <tr style=\"text-align: right;\">\n",
       "      <th></th>\n",
       "      <th>GAME</th>\n",
       "      <th>COUNTRY</th>\n",
       "      <th>YEAR</th>\n",
       "      <th>NAPFLT</th>\n",
       "      <th>GOBFLT</th>\n",
       "      <th>SERAMY</th>\n",
       "      <th>NWYAMY</th>\n",
       "      <th>GASAMY</th>\n",
       "      <th>AEGFLT</th>\n",
       "      <th>TUNAMY</th>\n",
       "      <th>...</th>\n",
       "      <th>MARFLT</th>\n",
       "      <th>ROMFLT</th>\n",
       "      <th>EDIAMY</th>\n",
       "      <th>EDIFLT</th>\n",
       "      <th>LONAMY</th>\n",
       "      <th>NAPAMY</th>\n",
       "      <th>NAOFLT</th>\n",
       "      <th>MUNAMY</th>\n",
       "      <th>LONFLT</th>\n",
       "      <th>OUTPUT</th>\n",
       "    </tr>\n",
       "  </thead>\n",
       "  <tbody>\n",
       "    <tr>\n",
       "      <th>5</th>\n",
       "      <td>1.0</td>\n",
       "      <td>ENG</td>\n",
       "      <td>1901</td>\n",
       "      <td>[]</td>\n",
       "      <td>[]</td>\n",
       "      <td>AUS</td>\n",
       "      <td>[]</td>\n",
       "      <td>[]</td>\n",
       "      <td>[]</td>\n",
       "      <td>[]</td>\n",
       "      <td>...</td>\n",
       "      <td>[]</td>\n",
       "      <td>[]</td>\n",
       "      <td>[]</td>\n",
       "      <td>[]</td>\n",
       "      <td>[]</td>\n",
       "      <td>[]</td>\n",
       "      <td>[]</td>\n",
       "      <td>FRA</td>\n",
       "      <td>[]</td>\n",
       "      <td>3.0</td>\n",
       "    </tr>\n",
       "    <tr>\n",
       "      <th>12</th>\n",
       "      <td>1.0</td>\n",
       "      <td>ENG</td>\n",
       "      <td>1902</td>\n",
       "      <td>[]</td>\n",
       "      <td>RUS</td>\n",
       "      <td>AUS</td>\n",
       "      <td>[]</td>\n",
       "      <td>[]</td>\n",
       "      <td>TUR</td>\n",
       "      <td>[]</td>\n",
       "      <td>...</td>\n",
       "      <td>[]</td>\n",
       "      <td>[]</td>\n",
       "      <td>[]</td>\n",
       "      <td>[]</td>\n",
       "      <td>[]</td>\n",
       "      <td>[]</td>\n",
       "      <td>[]</td>\n",
       "      <td>FRA</td>\n",
       "      <td>[]</td>\n",
       "      <td>4.0</td>\n",
       "    </tr>\n",
       "    <tr>\n",
       "      <th>19</th>\n",
       "      <td>1.0</td>\n",
       "      <td>ENG</td>\n",
       "      <td>1903</td>\n",
       "      <td>[]</td>\n",
       "      <td>RUS</td>\n",
       "      <td>AUS</td>\n",
       "      <td>[]</td>\n",
       "      <td>[]</td>\n",
       "      <td>TUR</td>\n",
       "      <td>[]</td>\n",
       "      <td>...</td>\n",
       "      <td>[]</td>\n",
       "      <td>[]</td>\n",
       "      <td>[]</td>\n",
       "      <td>[]</td>\n",
       "      <td>[]</td>\n",
       "      <td>[]</td>\n",
       "      <td>[]</td>\n",
       "      <td>FRA</td>\n",
       "      <td>[]</td>\n",
       "      <td>4.0</td>\n",
       "    </tr>\n",
       "    <tr>\n",
       "      <th>26</th>\n",
       "      <td>1.0</td>\n",
       "      <td>ENG</td>\n",
       "      <td>1904</td>\n",
       "      <td>[]</td>\n",
       "      <td>RUS</td>\n",
       "      <td>AUS</td>\n",
       "      <td>[]</td>\n",
       "      <td>FRA</td>\n",
       "      <td>TUR</td>\n",
       "      <td>[]</td>\n",
       "      <td>...</td>\n",
       "      <td>[]</td>\n",
       "      <td>[]</td>\n",
       "      <td>[]</td>\n",
       "      <td>[]</td>\n",
       "      <td>ENG</td>\n",
       "      <td>[]</td>\n",
       "      <td>[]</td>\n",
       "      <td>FRA</td>\n",
       "      <td>[]</td>\n",
       "      <td>3.0</td>\n",
       "    </tr>\n",
       "    <tr>\n",
       "      <th>33</th>\n",
       "      <td>1.0</td>\n",
       "      <td>ENG</td>\n",
       "      <td>1905</td>\n",
       "      <td>FRA</td>\n",
       "      <td>RUS</td>\n",
       "      <td>AUS</td>\n",
       "      <td>[]</td>\n",
       "      <td>FRA</td>\n",
       "      <td>TUR</td>\n",
       "      <td>[]</td>\n",
       "      <td>...</td>\n",
       "      <td>[]</td>\n",
       "      <td>[]</td>\n",
       "      <td>[]</td>\n",
       "      <td>[]</td>\n",
       "      <td>ENG</td>\n",
       "      <td>[]</td>\n",
       "      <td>[]</td>\n",
       "      <td>FRA</td>\n",
       "      <td>[]</td>\n",
       "      <td>3.0</td>\n",
       "    </tr>\n",
       "  </tbody>\n",
       "</table>\n",
       "<p>5 rows × 125 columns</p>\n",
       "</div>"
      ],
      "text/plain": [
       "    GAME COUNTRY  YEAR NAPFLT GOBFLT SERAMY NWYAMY GASAMY AEGFLT TUNAMY  \\\n",
       "5    1.0     ENG  1901     []     []    AUS     []     []     []     []   \n",
       "12   1.0     ENG  1902     []    RUS    AUS     []     []    TUR     []   \n",
       "19   1.0     ENG  1903     []    RUS    AUS     []     []    TUR     []   \n",
       "26   1.0     ENG  1904     []    RUS    AUS     []    FRA    TUR     []   \n",
       "33   1.0     ENG  1905    FRA    RUS    AUS     []    FRA    TUR     []   \n",
       "\n",
       "    ...   MARFLT ROMFLT EDIAMY EDIFLT LONAMY NAPAMY NAOFLT MUNAMY LONFLT  \\\n",
       "5   ...       []     []     []     []     []     []     []    FRA     []   \n",
       "12  ...       []     []     []     []     []     []     []    FRA     []   \n",
       "19  ...       []     []     []     []     []     []     []    FRA     []   \n",
       "26  ...       []     []     []     []    ENG     []     []    FRA     []   \n",
       "33  ...       []     []     []     []    ENG     []     []    FRA     []   \n",
       "\n",
       "   OUTPUT  \n",
       "5     3.0  \n",
       "12    4.0  \n",
       "19    4.0  \n",
       "26    3.0  \n",
       "33    3.0  \n",
       "\n",
       "[5 rows x 125 columns]"
      ]
     },
     "execution_count": 47,
     "metadata": {},
     "output_type": "execute_result"
    }
   ],
   "source": [
    "eng_dataset.head()"
   ]
  },
  {
   "cell_type": "code",
   "execution_count": 48,
   "metadata": {
    "collapsed": true
   },
   "outputs": [],
   "source": [
    "from sklearn.utils import shuffle"
   ]
  },
  {
   "cell_type": "code",
   "execution_count": 94,
   "metadata": {
    "collapsed": false
   },
   "outputs": [],
   "source": [
    "tX = eng_dataset.iloc[:, 0:124]\n",
    "tX = shuffle(tX)\n",
    "tX = tX.drop_duplicates('GAME')\n",
    "tX = tX.sort_values('GAME').iloc[:, 3:124]\n",
    "tY = eng_dataset.drop_duplicates('GAME', keep = 'last').iloc[:,124]"
   ]
  },
  {
   "cell_type": "code",
   "execution_count": 95,
   "metadata": {
    "collapsed": false
   },
   "outputs": [
    {
     "data": {
      "text/html": [
       "<div>\n",
       "<table border=\"1\" class=\"dataframe\">\n",
       "  <thead>\n",
       "    <tr style=\"text-align: right;\">\n",
       "      <th></th>\n",
       "      <th>NAPFLT</th>\n",
       "      <th>GOBFLT</th>\n",
       "      <th>SERAMY</th>\n",
       "      <th>NWYAMY</th>\n",
       "      <th>GASAMY</th>\n",
       "      <th>AEGFLT</th>\n",
       "      <th>TUNAMY</th>\n",
       "      <th>NWYFLT</th>\n",
       "      <th>GASFLT</th>\n",
       "      <th>YORAMY</th>\n",
       "      <th>...</th>\n",
       "      <th>GALAMY</th>\n",
       "      <th>MARFLT</th>\n",
       "      <th>ROMFLT</th>\n",
       "      <th>EDIAMY</th>\n",
       "      <th>EDIFLT</th>\n",
       "      <th>LONAMY</th>\n",
       "      <th>NAPAMY</th>\n",
       "      <th>NAOFLT</th>\n",
       "      <th>MUNAMY</th>\n",
       "      <th>LONFLT</th>\n",
       "    </tr>\n",
       "  </thead>\n",
       "  <tbody>\n",
       "    <tr>\n",
       "      <th>12</th>\n",
       "      <td>[]</td>\n",
       "      <td>RUS</td>\n",
       "      <td>AUS</td>\n",
       "      <td>[]</td>\n",
       "      <td>[]</td>\n",
       "      <td>TUR</td>\n",
       "      <td>[]</td>\n",
       "      <td>[]</td>\n",
       "      <td>[]</td>\n",
       "      <td>[]</td>\n",
       "      <td>...</td>\n",
       "      <td>[]</td>\n",
       "      <td>[]</td>\n",
       "      <td>[]</td>\n",
       "      <td>[]</td>\n",
       "      <td>[]</td>\n",
       "      <td>[]</td>\n",
       "      <td>[]</td>\n",
       "      <td>[]</td>\n",
       "      <td>FRA</td>\n",
       "      <td>[]</td>\n",
       "    </tr>\n",
       "    <tr>\n",
       "      <th>124</th>\n",
       "      <td>ITA</td>\n",
       "      <td>RUS</td>\n",
       "      <td>AUS</td>\n",
       "      <td>RUS</td>\n",
       "      <td>FRA</td>\n",
       "      <td>AUS</td>\n",
       "      <td>[]</td>\n",
       "      <td>RUS</td>\n",
       "      <td>[]</td>\n",
       "      <td>ENG</td>\n",
       "      <td>...</td>\n",
       "      <td>RUS</td>\n",
       "      <td>[]</td>\n",
       "      <td>[]</td>\n",
       "      <td>[]</td>\n",
       "      <td>ENG</td>\n",
       "      <td>ENG</td>\n",
       "      <td>[]</td>\n",
       "      <td>ENG</td>\n",
       "      <td>GER</td>\n",
       "      <td>ENG</td>\n",
       "    </tr>\n",
       "    <tr>\n",
       "      <th>187</th>\n",
       "      <td>ITA</td>\n",
       "      <td>RUS</td>\n",
       "      <td>AUS</td>\n",
       "      <td>RUS</td>\n",
       "      <td>FRA</td>\n",
       "      <td>TUR</td>\n",
       "      <td>[]</td>\n",
       "      <td>ENG</td>\n",
       "      <td>[]</td>\n",
       "      <td>ENG</td>\n",
       "      <td>...</td>\n",
       "      <td>AUS</td>\n",
       "      <td>[]</td>\n",
       "      <td>ITA</td>\n",
       "      <td>ENG</td>\n",
       "      <td>ENG</td>\n",
       "      <td>ENG</td>\n",
       "      <td>ITA</td>\n",
       "      <td>ENG</td>\n",
       "      <td>FRA</td>\n",
       "      <td>FRA</td>\n",
       "    </tr>\n",
       "    <tr>\n",
       "      <th>243</th>\n",
       "      <td>ITA</td>\n",
       "      <td>RUS</td>\n",
       "      <td>AUS</td>\n",
       "      <td>RUS</td>\n",
       "      <td>RUS</td>\n",
       "      <td>TUR</td>\n",
       "      <td>[]</td>\n",
       "      <td>ENG</td>\n",
       "      <td>[]</td>\n",
       "      <td>ENG</td>\n",
       "      <td>...</td>\n",
       "      <td>RUS</td>\n",
       "      <td>ITA</td>\n",
       "      <td>ITA</td>\n",
       "      <td>ENG</td>\n",
       "      <td>ENG</td>\n",
       "      <td>ENG</td>\n",
       "      <td>ITA</td>\n",
       "      <td>ENG</td>\n",
       "      <td>GER</td>\n",
       "      <td>ENG</td>\n",
       "    </tr>\n",
       "    <tr>\n",
       "      <th>439</th>\n",
       "      <td>ITA</td>\n",
       "      <td>RUS</td>\n",
       "      <td>RUS</td>\n",
       "      <td>RUS</td>\n",
       "      <td>FRA</td>\n",
       "      <td>TUR</td>\n",
       "      <td>[]</td>\n",
       "      <td>ENG</td>\n",
       "      <td>ITA</td>\n",
       "      <td>ENG</td>\n",
       "      <td>...</td>\n",
       "      <td>RUS</td>\n",
       "      <td>ITA</td>\n",
       "      <td>ITA</td>\n",
       "      <td>ENG</td>\n",
       "      <td>ENG</td>\n",
       "      <td>ENG</td>\n",
       "      <td>ITA</td>\n",
       "      <td>FRA</td>\n",
       "      <td>FRA</td>\n",
       "      <td>ENG</td>\n",
       "    </tr>\n",
       "  </tbody>\n",
       "</table>\n",
       "<p>5 rows × 121 columns</p>\n",
       "</div>"
      ],
      "text/plain": [
       "    NAPFLT GOBFLT SERAMY NWYAMY GASAMY AEGFLT TUNAMY NWYFLT GASFLT YORAMY  \\\n",
       "12      []    RUS    AUS     []     []    TUR     []     []     []     []   \n",
       "124    ITA    RUS    AUS    RUS    FRA    AUS     []    RUS     []    ENG   \n",
       "187    ITA    RUS    AUS    RUS    FRA    TUR     []    ENG     []    ENG   \n",
       "243    ITA    RUS    AUS    RUS    RUS    TUR     []    ENG     []    ENG   \n",
       "439    ITA    RUS    RUS    RUS    FRA    TUR     []    ENG    ITA    ENG   \n",
       "\n",
       "     ...   GALAMY MARFLT ROMFLT EDIAMY EDIFLT LONAMY NAPAMY NAOFLT MUNAMY  \\\n",
       "12   ...       []     []     []     []     []     []     []     []    FRA   \n",
       "124  ...      RUS     []     []     []    ENG    ENG     []    ENG    GER   \n",
       "187  ...      AUS     []    ITA    ENG    ENG    ENG    ITA    ENG    FRA   \n",
       "243  ...      RUS    ITA    ITA    ENG    ENG    ENG    ITA    ENG    GER   \n",
       "439  ...      RUS    ITA    ITA    ENG    ENG    ENG    ITA    FRA    FRA   \n",
       "\n",
       "    LONFLT  \n",
       "12      []  \n",
       "124    ENG  \n",
       "187    FRA  \n",
       "243    ENG  \n",
       "439    ENG  \n",
       "\n",
       "[5 rows x 121 columns]"
      ]
     },
     "execution_count": 95,
     "metadata": {},
     "output_type": "execute_result"
    }
   ],
   "source": [
    "tX.head()"
   ]
  },
  {
   "cell_type": "code",
   "execution_count": 96,
   "metadata": {
    "collapsed": false
   },
   "outputs": [
    {
     "data": {
      "text/plain": [
       "47      3.0\n",
       "152     4.0\n",
       "229     5.0\n",
       "341    10.0\n",
       "460     4.0\n",
       "Name: OUTPUT, dtype: float64"
      ]
     },
     "execution_count": 96,
     "metadata": {},
     "output_type": "execute_result"
    }
   ],
   "source": [
    "tY.head()"
   ]
  },
  {
   "cell_type": "code",
   "execution_count": 97,
   "metadata": {
    "collapsed": false
   },
   "outputs": [
    {
     "name": "stdout",
     "output_type": "stream",
     "text": [
      "(1589, 121) (1589,)\n"
     ]
    }
   ],
   "source": [
    "print(tX.shape,tY.shape)"
   ]
  },
  {
   "cell_type": "code",
   "execution_count": 98,
   "metadata": {
    "collapsed": false
   },
   "outputs": [],
   "source": [
    "X = tX.values\n",
    "y = tY.values"
   ]
  },
  {
   "cell_type": "markdown",
   "metadata": {},
   "source": [
    "## Encoding categorical data\n",
    "データの成形を行う"
   ]
  },
  {
   "cell_type": "code",
   "execution_count": 99,
   "metadata": {
    "collapsed": false
   },
   "outputs": [],
   "source": [
    "from sklearn.preprocessing import LabelEncoder, OneHotEncoder\n",
    "\n",
    "##labelをエンコードする\n",
    "le = LabelEncoder()\n",
    "le.fit(['RUS','AUS','GER','TUR','FRA','ENG', 'ITA', '[]'])\n",
    "\n",
    "for i in range(121):\n",
    "    X[:, i] = le.transform(X[:, i])\n",
    "\n",
    "### Gender\n",
    "# labelencoder_X_2 = LabelEncoder()\n",
    "# X[:, 2] = labelencoder_X_2.fit_transform(X[:, 2]) "
   ]
  },
  {
   "cell_type": "code",
   "execution_count": 100,
   "metadata": {
    "collapsed": false
   },
   "outputs": [],
   "source": [
    "onehotencoder = OneHotEncoder()\n",
    "X = onehotencoder.fit_transform(X).toarray()"
   ]
  },
  {
   "cell_type": "markdown",
   "metadata": {},
   "source": [
    "##  データセットと学習セットに分ける"
   ]
  },
  {
   "cell_type": "code",
   "execution_count": 103,
   "metadata": {
    "collapsed": true
   },
   "outputs": [],
   "source": [
    "# Splitting the dataset into the Training set and Test set\n",
    "from sklearn.model_selection import train_test_split\n",
    "X_train, X_test, y_train, y_test = train_test_split(X, y, test_size = 0.2, random_state = 0)\n",
    "t\n",
    "# Feature Scaling\n",
    "from sklearn.preprocessing import StandardScaler\n",
    "sc = StandardScaler()\n",
    "X_train = sc.fit_transform(X_train)\n",
    "X_test = sc.transform(X_test)"
   ]
  },
  {
   "cell_type": "markdown",
   "metadata": {},
   "source": [
    "# モデルの作成"
   ]
  },
  {
   "cell_type": "code",
   "execution_count": 104,
   "metadata": {
    "collapsed": false
   },
   "outputs": [],
   "source": [
    "from sklearn import svm\n",
    "# from sklearn.grid_search import GridSearchCV\n",
    "from sklearn.model_selection import GridSearchCV"
   ]
  },
  {
   "cell_type": "code",
   "execution_count": 105,
   "metadata": {
    "collapsed": false
   },
   "outputs": [
    {
     "data": {
      "image/png": "[encoded data removed]",
      "text/plain": [
       "<matplotlib.figure.Figure at 0x1215ece80>"
      ]
     },
     "metadata": {},
     "output_type": "display_data"
    },
    {
     "name": "stdout",
     "output_type": "stream",
     "text": [
      "0.283460905175\n"
     ]
    }
   ],
   "source": [
    "# tuned_parameters = [{'kernel': ['rbf'], 'gamma': [1e-3, 1e-4],\n",
    "#                      'C': [1, 10, 100, 1000]},\n",
    "#                     {'kernel': ['linear'], 'C': [1, 10, 100, 1000]}]\n",
    "# reg = GridSearchCV(svm.SVR(), tuned_parameters, cv=5, scoring='mean_squared_error')\n",
    "# reg = GridSearchCV(svm.SVR(), tuned_parameters, cv=5, scoring='mean_squared_error')\n",
    "# reg.fit(X_train, y_train)\n",
    "\n",
    "# サポートベクトル回帰を学習データ使って作成\n",
    "reg = svm.SVR(kernel='rbf', C=10).fit(X_train, y_train)\n",
    "\n",
    "# テストデータに対する予測結果のPLOT\n",
    "plt.plot(X_test, y_test, 'bo-', X_test, reg.predict(X_test), 'ro-')\n",
    "plt.show()\n",
    "\n",
    "print(reg.score(X_test, y_test))"
   ]
  },
  {
   "cell_type": "code",
   "execution_count": 106,
   "metadata": {
    "collapsed": false
   },
   "outputs": [
    {
     "name": "stdout",
     "output_type": "stream",
     "text": [
      "3.669331903643073\n"
     ]
    }
   ],
   "source": [
    "from sklearn.metrics import mean_squared_error\n",
    "from math import sqrt\n",
    "predict = reg.predict(X_test)\n",
    "print(sqrt(mean_squared_error(y_test, predict)))"
   ]
  },
  {
   "cell_type": "code",
   "execution_count": 107,
   "metadata": {
    "collapsed": false
   },
   "outputs": [
    {
     "data": {
      "text/plain": [
       "['svm.learn']"
      ]
     },
     "execution_count": 107,
     "metadata": {},
     "output_type": "execute_result"
    }
   ],
   "source": [
    "from sklearn.externals import joblib\n",
    "# 予測モデルを出力\n",
    "joblib.dump(reg, 'svm.learn')"
   ]
  },
  {
   "cell_type": "code",
   "execution_count": null,
   "metadata": {
    "collapsed": true
   },
   "outputs": [],
   "source": []
  }
 ],
 "metadata": {
  "kernelspec": {
   "display_name": "Python 3",
   "language": "python",
   "name": "python3"
  },
  "language_info": {
   "codemirror_mode": {
    "name": "ipython",
    "version": 3
   },
   "file_extension": ".py",
   "mimetype": "text/x-python",
   "name": "python",
   "nbconvert_exporter": "python",
   "pygments_lexer": "ipython3",
   "version": "3.6.0"
  }
 },
 "nbformat": 4,
 "nbformat_minor": 2
}
