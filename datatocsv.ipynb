{
 "cells": [
  {
   "cell_type": "code",
   "execution_count": 1,
   "metadata": {
    "collapsed": true
   },
   "outputs": [],
   "source": [
    "import numpy as np\n",
    "import matplotlib.pyplot as plt\n",
    "import pandas as pd"
   ]
  },
  {
   "cell_type": "markdown",
   "metadata": {},
   "source": [
    "## import dataset\n",
    "raw_dataをdatasetの形式に変換する！"
   ]
  },
  {
   "cell_type": "code",
   "execution_count": 2,
   "metadata": {
    "collapsed": false
   },
   "outputs": [],
   "source": [
    "dataset = pd.read_csv('/Users/tela/dev/src/github.com/sorashido/DiplomacyPredict/dataset.csv')\n",
    "raw_data = pd.read_table('/Users/tela/dev/src/github.com/sorashido/DiplomacyPredict/roundResults_short.log',sep=':')"
   ]
  },
  {
   "cell_type": "code",
   "execution_count": 3,
   "metadata": {
    "collapsed": false
   },
   "outputs": [
    {
     "data": {
      "text/html": [
       "<div>\n",
       "<table border=\"1\" class=\"dataframe\">\n",
       "  <thead>\n",
       "    <tr style=\"text-align: right;\">\n",
       "      <th></th>\n",
       "      <th>COUNTRY</th>\n",
       "      <th>OWN</th>\n",
       "      <th>ARM</th>\n",
       "    </tr>\n",
       "  </thead>\n",
       "  <tbody>\n",
       "    <tr>\n",
       "      <th>0</th>\n",
       "      <td>1901</td>\n",
       "      <td>WIN</td>\n",
       "      <td>NaN</td>\n",
       "    </tr>\n",
       "    <tr>\n",
       "      <th>1</th>\n",
       "      <td>RUS</td>\n",
       "      <td>[MOS, SEV, STP, RUM]</td>\n",
       "      <td>[UKRAMY, MOSAMY, FINFLT, RUMFLT]</td>\n",
       "    </tr>\n",
       "    <tr>\n",
       "      <th>2</th>\n",
       "      <td>AUS</td>\n",
       "      <td>[BUD, TRI, VIE, SER]</td>\n",
       "      <td>[SERAMY, VIEAMY, TRIFLT]</td>\n",
       "    </tr>\n",
       "    <tr>\n",
       "      <th>3</th>\n",
       "      <td>GER</td>\n",
       "      <td>[BER, KIE, WAR, DEN]</td>\n",
       "      <td>[TYRAMY, WARAMY, DENFLT]</td>\n",
       "    </tr>\n",
       "    <tr>\n",
       "      <th>4</th>\n",
       "      <td>TUR</td>\n",
       "      <td>[ANK, CON, SMY, GRE]</td>\n",
       "      <td>[ARMAMY, GREAMY, CONFLT]</td>\n",
       "    </tr>\n",
       "  </tbody>\n",
       "</table>\n",
       "</div>"
      ],
      "text/plain": [
       "  COUNTRY                    OWN                                ARM\n",
       "0    1901                    WIN                                NaN\n",
       "1     RUS   [MOS, SEV, STP, RUM]   [UKRAMY, MOSAMY, FINFLT, RUMFLT]\n",
       "2     AUS   [BUD, TRI, VIE, SER]           [SERAMY, VIEAMY, TRIFLT]\n",
       "3     GER   [BER, KIE, WAR, DEN]           [TYRAMY, WARAMY, DENFLT]\n",
       "4     TUR   [ANK, CON, SMY, GRE]           [ARMAMY, GREAMY, CONFLT]"
      ]
     },
     "execution_count": 3,
     "metadata": {},
     "output_type": "execute_result"
    }
   ],
   "source": [
    "raw_data.head()"
   ]
  },
  {
   "cell_type": "code",
   "execution_count": 4,
   "metadata": {
    "collapsed": false
   },
   "outputs": [
    {
     "data": {
      "text/html": [
       "<div>\n",
       "<table border=\"1\" class=\"dataframe\">\n",
       "  <thead>\n",
       "    <tr style=\"text-align: right;\">\n",
       "      <th></th>\n",
       "      <th>GAME</th>\n",
       "      <th>COUNTRY</th>\n",
       "      <th>YEAR</th>\n",
       "      <th>NAPFLT</th>\n",
       "      <th>GOBFLT</th>\n",
       "      <th>SERAMY</th>\n",
       "      <th>NWYAMY</th>\n",
       "      <th>GASAMY</th>\n",
       "      <th>AEGFLT</th>\n",
       "      <th>TUNAMY</th>\n",
       "      <th>...</th>\n",
       "      <th>MARFLT</th>\n",
       "      <th>ROMFLT</th>\n",
       "      <th>EDIAMY</th>\n",
       "      <th>EDIFLT</th>\n",
       "      <th>LONAMY</th>\n",
       "      <th>NAPAMY</th>\n",
       "      <th>NAOFLT</th>\n",
       "      <th>MUNAMY</th>\n",
       "      <th>LONFLT</th>\n",
       "      <th>OUTPUT</th>\n",
       "    </tr>\n",
       "  </thead>\n",
       "  <tbody>\n",
       "  </tbody>\n",
       "</table>\n",
       "<p>0 rows × 125 columns</p>\n",
       "</div>"
      ],
      "text/plain": [
       "Empty DataFrame\n",
       "Columns: [GAME, COUNTRY, YEAR, NAPFLT, GOBFLT, SERAMY, NWYAMY, GASAMY, AEGFLT, TUNAMY, NWYFLT, GASFLT, YORAMY, BUDAMY, ECHFLT, TUNFLT, BALFLT, YORFLT, SILAMY, SEVAMY, STPAMY, SEVFLT, PRUAMY, NTHFLT, TUSAMY, UKRAMY, PRUFLT, TUSFLT, MOSAMY, STPSCS, FINAMY, GOLFLT, WALAMY, SYRAMY, BARFLT, FINFLT, WALFLT, SYRFLT, HELFLT, SWEAMY, BULAMY, PARAMY, BELAMY, APUAMY, SWEFLT, BOHAMY, BELFLT, APUFLT, HOLAMY, BULSCS, VENAMY, STPNCS, VIEAMY, HOLFLT, WARAMY, PICAMY, TYRAMY, VENFLT, ANKAMY, PICFLT, BURAMY, PIEAMY, GREAMY, ANKFLT, TYSFLT, BERAMY, SKAFLT, PIEFLT, CLYAMY, TRIAMY, GREFLT, IONFLT, BERFLT, SPAAMY, CLYFLT, TRIFLT, ADRFLT, ALBAMY, RUHAMY, NWGFLT, SPASCS, ALBFLT, LVNAMY, CONAMY, LVNFLT, PORAMY, LVPAMY, CONFLT, KIEAMY, DENAMY, NAFAMY, BREAMY, SMYAMY, PORFLT, LVPFLT, KIEFLT, WESFLT, DENFLT, NAFFLT, BREFLT, ...]\n",
       "Index: []\n",
       "\n",
       "[0 rows x 125 columns]"
      ]
     },
     "execution_count": 4,
     "metadata": {},
     "output_type": "execute_result"
    }
   ],
   "source": [
    "dataset.head()"
   ]
  },
  {
   "cell_type": "markdown",
   "metadata": {},
   "source": [
    "## raw_dataを順々に処理していく。\n",
    "countryが数値の場合、新しい行に追加\n",
    "国名の場合、OWN、ARMをそれぞれ当てはまる場所に追加。"
   ]
  },
  {
   "cell_type": "code",
   "execution_count": 6,
   "metadata": {
    "collapsed": false
   },
   "outputs": [],
   "source": [
    "now = 0\n",
    "year = 1901\n",
    "game_count = 0\n",
    "D = {\"GAME\":[], \"COUNTRY\":[], \"YEAR\":[], \"NAPFLT\":[], \"GOBFLT\":[], \"SERAMY\":[], \"NWYAMY\":[], \"GASAMY\":[], \"AEGFLT\":[], \"TUNAMY\":[], \"NWYFLT\":[], \"GASFLT\":[], \"YORAMY\":[], \"BUDAMY\":[], \"ECHFLT\":[], \"TUNFLT\":[], \"BALFLT\":[], \"YORFLT\":[], \"SILAMY\":[], \"SEVAMY\":[], \"STPAMY\":[], \"SEVFLT\":[], \"PRUAMY\":[], \"NTHFLT\":[], \"TUSAMY\":[], \"UKRAMY\":[], \"PRUFLT\":[], \"TUSFLT\":[], \"MOSAMY\":[], \"STPSCS\":[], \"FINAMY\":[], \"GOLFLT\":[], \"WALAMY\":[], \"SYRAMY\":[], \"BARFLT\":[], \"FINFLT\":[], \"WALFLT\":[], \"SYRFLT\":[], \"HELFLT\":[], \"SWEAMY\":[], \"BULAMY\":[], \"PARAMY\":[], \"BELAMY\":[], \"APUAMY\":[], \"SWEFLT\":[], \"BOHAMY\":[], \"BELFLT\":[], \"APUFLT\":[], \"HOLAMY\":[], \"BULSCS\":[], \"VENAMY\":[], \"STPNCS\":[], \"VIEAMY\":[], \"HOLFLT\":[], \"WARAMY\":[], \"PICAMY\":[], \"TYRAMY\":[], \"VENFLT\":[], \"ANKAMY\":[], \"PICFLT\":[], \"BURAMY\":[], \"PIEAMY\":[], \"GREAMY\":[], \"ANKFLT\":[], \"TYSFLT\":[], \"BERAMY\":[], \"SKAFLT\":[], \"PIEFLT\":[], \"CLYAMY\":[], \"TRIAMY\":[], \"GREFLT\":[], \"IONFLT\":[], \"BERFLT\":[], \"SPAAMY\":[], \"CLYFLT\":[], \"TRIFLT\":[], \"ADRFLT\":[], \"ALBAMY\":[], \"RUHAMY\":[], \"NWGFLT\":[], \"SPASCS\":[], \"ALBFLT\":[], \"LVNAMY\":[], \"CONAMY\":[], \"LVNFLT\":[], \"PORAMY\":[], \"LVPAMY\":[], \"CONFLT\":[], \"KIEAMY\":[], \"DENAMY\":[], \"NAFAMY\":[], \"BREAMY\":[], \"SMYAMY\":[], \"PORFLT\":[], \"LVPFLT\":[], \"KIEFLT\":[], \"WESFLT\":[], \"DENFLT\":[], \"NAFFLT\":[], \"BREFLT\":[], \"RUMAMY\":[], \"SMYFLT\":[], \"ARMAMY\":[], \"BLAFLT\":[], \"SPANCS\":[], \"RUMFLT\":[], \"EASFLT\":[], \"MAOAMY\":[], \"ARMFLT\":[], \"MAOFLT\":[], \"IRIFLT\":[], \"BULECS\":[], \"MARAMY\":[], \"ROMAMY\":[], \"GALAMY\":[], \"MARFLT\":[], \"ROMFLT\":[], \"EDIAMY\":[], \"EDIFLT\":[], \"LONAMY\":[], \"NAPAMY\":[], \"NAOFLT\":[], \"MUNAMY\":[], \"LONFLT\":[], \"OUTPUT\":[]}\n",
    "for i, v in raw_data.iterrows():\n",
    "    if v[\"COUNTRY\"].isdigit() == True:\n",
    "        D[\"YEAR\"] = v[\"COUNTRY\"]\n",
    "        if v[\"COUNTRY\"] == \"1901\":\n",
    "            game_count += 1\n",
    "    else:\n",
    "        D[\"GAME\"] = game_count\n",
    "        D[\"COUNTRY\"] = v[\"COUNTRY\"]\n",
    "        s = v[\"ARM\"]\n",
    "        s = s.replace(\" \",\"\")\n",
    "        s = s.replace(\"[\",\"\")\n",
    "        s = s.replace(\"]\",\"\")\n",
    "        s = s.split(\",\")\n",
    "        for j in s:\n",
    "            if j in D:\n",
    "                D[j] = v[\"COUNTRY\"]\n",
    "\n",
    "        s = v[\"OWN\"]\n",
    "        s = s.replace(\" \",\"\")\n",
    "        s = s.replace(\"[\",\"\")\n",
    "        s = s.replace(\"]\",\"\")\n",
    "        s = s.split(\",\")\n",
    "        D[\"OUTPUT\"] = len(s)\n",
    "        se = pd.Series([D[\"GAME\"], D[\"COUNTRY\"], D[\"YEAR\"], D[\"NAPFLT\"], D[\"GOBFLT\"], D[\"SERAMY\"], D[\"NWYAMY\"], D[\"GASAMY\"], D[\"AEGFLT\"], D[\"TUNAMY\"], D[\"NWYFLT\"], D[\"GASFLT\"], D[\"YORAMY\"], D[\"BUDAMY\"], D[\"ECHFLT\"], D[\"TUNFLT\"], D[\"BALFLT\"], D[\"YORFLT\"], D[\"SILAMY\"], D[\"SEVAMY\"], D[\"STPAMY\"], D[\"SEVFLT\"], D[\"PRUAMY\"], D[\"NTHFLT\"], D[\"TUSAMY\"], D[\"UKRAMY\"], D[\"PRUFLT\"], D[\"TUSFLT\"], D[\"MOSAMY\"], D[\"STPSCS\"], D[\"FINAMY\"], D[\"GOLFLT\"], D[\"WALAMY\"], D[\"SYRAMY\"], D[\"BARFLT\"], D[\"FINFLT\"], D[\"WALFLT\"], D[\"SYRFLT\"], D[\"HELFLT\"], D[\"SWEAMY\"], D[\"BULAMY\"], D[\"PARAMY\"], D[\"BELAMY\"], D[\"APUAMY\"], D[\"SWEFLT\"], D[\"BOHAMY\"], D[\"BELFLT\"], D[\"APUFLT\"], D[\"HOLAMY\"], D[\"BULSCS\"], D[\"VENAMY\"], D[\"STPNCS\"], D[\"VIEAMY\"], D[\"HOLFLT\"], D[\"WARAMY\"], D[\"PICAMY\"], D[\"TYRAMY\"], D[\"VENFLT\"], D[\"ANKAMY\"], D[\"PICFLT\"], D[\"BURAMY\"], D[\"PIEAMY\"], D[\"GREAMY\"], D[\"ANKFLT\"], D[\"TYSFLT\"], D[\"BERAMY\"], D[\"SKAFLT\"], D[\"PIEFLT\"], D[\"CLYAMY\"], D[\"TRIAMY\"], D[\"GREFLT\"], D[\"IONFLT\"], D[\"BERFLT\"], D[\"SPAAMY\"], D[\"CLYFLT\"], D[\"TRIFLT\"], D[\"ADRFLT\"], D[\"ALBAMY\"], D[\"RUHAMY\"], D[\"NWGFLT\"], D[\"SPASCS\"], D[\"ALBFLT\"], D[\"LVNAMY\"], D[\"CONAMY\"], D[\"LVNFLT\"], D[\"PORAMY\"], D[\"LVPAMY\"], D[\"CONFLT\"], D[\"KIEAMY\"], D[\"DENAMY\"], D[\"NAFAMY\"], D[\"BREAMY\"], D[\"SMYAMY\"], D[\"PORFLT\"], D[\"LVPFLT\"], D[\"KIEFLT\"], D[\"WESFLT\"], D[\"DENFLT\"], D[\"NAFFLT\"], D[\"BREFLT\"], D[\"RUMAMY\"], D[\"SMYFLT\"], D[\"ARMAMY\"], D[\"BLAFLT\"], D[\"SPANCS\"], D[\"RUMFLT\"], D[\"EASFLT\"], D[\"MAOAMY\"], D[\"ARMFLT\"], D[\"MAOFLT\"], D[\"IRIFLT\"], D[\"BULECS\"], D[\"MARAMY\"], D[\"ROMAMY\"], D[\"GALAMY\"], D[\"MARFLT\"], D[\"ROMFLT\"], D[\"EDIAMY\"], D[\"EDIFLT\"], D[\"LONAMY\"], D[\"NAPAMY\"], D[\"NAOFLT\"], D[\"MUNAMY\"], D[\"LONFLT\"], D[\"OUTPUT\"]], index = dataset.columns)\n",
    "        dataset = dataset.append(se,ignore_index = True)                "
   ]
  },
  {
   "cell_type": "markdown",
   "metadata": {},
   "source": [
    "整形したデータの確認"
   ]
  },
  {
   "cell_type": "code",
   "execution_count": 7,
   "metadata": {
    "collapsed": false
   },
   "outputs": [
    {
     "data": {
      "text/html": [
       "<div>\n",
       "<table border=\"1\" class=\"dataframe\">\n",
       "  <thead>\n",
       "    <tr style=\"text-align: right;\">\n",
       "      <th></th>\n",
       "      <th>GAME</th>\n",
       "      <th>COUNTRY</th>\n",
       "      <th>YEAR</th>\n",
       "      <th>NAPFLT</th>\n",
       "      <th>GOBFLT</th>\n",
       "      <th>SERAMY</th>\n",
       "      <th>NWYAMY</th>\n",
       "      <th>GASAMY</th>\n",
       "      <th>AEGFLT</th>\n",
       "      <th>TUNAMY</th>\n",
       "      <th>...</th>\n",
       "      <th>MARFLT</th>\n",
       "      <th>ROMFLT</th>\n",
       "      <th>EDIAMY</th>\n",
       "      <th>EDIFLT</th>\n",
       "      <th>LONAMY</th>\n",
       "      <th>NAPAMY</th>\n",
       "      <th>NAOFLT</th>\n",
       "      <th>MUNAMY</th>\n",
       "      <th>LONFLT</th>\n",
       "      <th>OUTPUT</th>\n",
       "    </tr>\n",
       "  </thead>\n",
       "  <tbody>\n",
       "    <tr>\n",
       "      <th>0</th>\n",
       "      <td>1.0</td>\n",
       "      <td>RUS</td>\n",
       "      <td>1901</td>\n",
       "      <td>[]</td>\n",
       "      <td>[]</td>\n",
       "      <td>[]</td>\n",
       "      <td>[]</td>\n",
       "      <td>[]</td>\n",
       "      <td>[]</td>\n",
       "      <td>[]</td>\n",
       "      <td>...</td>\n",
       "      <td>[]</td>\n",
       "      <td>[]</td>\n",
       "      <td>[]</td>\n",
       "      <td>[]</td>\n",
       "      <td>[]</td>\n",
       "      <td>[]</td>\n",
       "      <td>[]</td>\n",
       "      <td>[]</td>\n",
       "      <td>[]</td>\n",
       "      <td>4.0</td>\n",
       "    </tr>\n",
       "    <tr>\n",
       "      <th>1</th>\n",
       "      <td>1.0</td>\n",
       "      <td>AUS</td>\n",
       "      <td>1901</td>\n",
       "      <td>[]</td>\n",
       "      <td>[]</td>\n",
       "      <td>AUS</td>\n",
       "      <td>[]</td>\n",
       "      <td>[]</td>\n",
       "      <td>[]</td>\n",
       "      <td>[]</td>\n",
       "      <td>...</td>\n",
       "      <td>[]</td>\n",
       "      <td>[]</td>\n",
       "      <td>[]</td>\n",
       "      <td>[]</td>\n",
       "      <td>[]</td>\n",
       "      <td>[]</td>\n",
       "      <td>[]</td>\n",
       "      <td>[]</td>\n",
       "      <td>[]</td>\n",
       "      <td>4.0</td>\n",
       "    </tr>\n",
       "    <tr>\n",
       "      <th>2</th>\n",
       "      <td>1.0</td>\n",
       "      <td>GER</td>\n",
       "      <td>1901</td>\n",
       "      <td>[]</td>\n",
       "      <td>[]</td>\n",
       "      <td>AUS</td>\n",
       "      <td>[]</td>\n",
       "      <td>[]</td>\n",
       "      <td>[]</td>\n",
       "      <td>[]</td>\n",
       "      <td>...</td>\n",
       "      <td>[]</td>\n",
       "      <td>[]</td>\n",
       "      <td>[]</td>\n",
       "      <td>[]</td>\n",
       "      <td>[]</td>\n",
       "      <td>[]</td>\n",
       "      <td>[]</td>\n",
       "      <td>[]</td>\n",
       "      <td>[]</td>\n",
       "      <td>4.0</td>\n",
       "    </tr>\n",
       "    <tr>\n",
       "      <th>3</th>\n",
       "      <td>1.0</td>\n",
       "      <td>TUR</td>\n",
       "      <td>1901</td>\n",
       "      <td>[]</td>\n",
       "      <td>[]</td>\n",
       "      <td>AUS</td>\n",
       "      <td>[]</td>\n",
       "      <td>[]</td>\n",
       "      <td>[]</td>\n",
       "      <td>[]</td>\n",
       "      <td>...</td>\n",
       "      <td>[]</td>\n",
       "      <td>[]</td>\n",
       "      <td>[]</td>\n",
       "      <td>[]</td>\n",
       "      <td>[]</td>\n",
       "      <td>[]</td>\n",
       "      <td>[]</td>\n",
       "      <td>[]</td>\n",
       "      <td>[]</td>\n",
       "      <td>4.0</td>\n",
       "    </tr>\n",
       "    <tr>\n",
       "      <th>4</th>\n",
       "      <td>1.0</td>\n",
       "      <td>FRA</td>\n",
       "      <td>1901</td>\n",
       "      <td>[]</td>\n",
       "      <td>[]</td>\n",
       "      <td>AUS</td>\n",
       "      <td>[]</td>\n",
       "      <td>[]</td>\n",
       "      <td>[]</td>\n",
       "      <td>[]</td>\n",
       "      <td>...</td>\n",
       "      <td>[]</td>\n",
       "      <td>[]</td>\n",
       "      <td>[]</td>\n",
       "      <td>[]</td>\n",
       "      <td>[]</td>\n",
       "      <td>[]</td>\n",
       "      <td>[]</td>\n",
       "      <td>FRA</td>\n",
       "      <td>[]</td>\n",
       "      <td>6.0</td>\n",
       "    </tr>\n",
       "  </tbody>\n",
       "</table>\n",
       "<p>5 rows × 125 columns</p>\n",
       "</div>"
      ],
      "text/plain": [
       "   GAME COUNTRY  YEAR NAPFLT GOBFLT SERAMY NWYAMY GASAMY AEGFLT TUNAMY  ...    \\\n",
       "0   1.0     RUS  1901     []     []     []     []     []     []     []  ...     \n",
       "1   1.0     AUS  1901     []     []    AUS     []     []     []     []  ...     \n",
       "2   1.0     GER  1901     []     []    AUS     []     []     []     []  ...     \n",
       "3   1.0     TUR  1901     []     []    AUS     []     []     []     []  ...     \n",
       "4   1.0     FRA  1901     []     []    AUS     []     []     []     []  ...     \n",
       "\n",
       "  MARFLT ROMFLT EDIAMY EDIFLT LONAMY NAPAMY NAOFLT MUNAMY LONFLT OUTPUT  \n",
       "0     []     []     []     []     []     []     []     []     []    4.0  \n",
       "1     []     []     []     []     []     []     []     []     []    4.0  \n",
       "2     []     []     []     []     []     []     []     []     []    4.0  \n",
       "3     []     []     []     []     []     []     []     []     []    4.0  \n",
       "4     []     []     []     []     []     []     []    FRA     []    6.0  \n",
       "\n",
       "[5 rows x 125 columns]"
      ]
     },
     "execution_count": 7,
     "metadata": {},
     "output_type": "execute_result"
    }
   ],
   "source": [
    "dataset = dataset.fillna(0) #欠損値を0で穴埋め\n",
    "dataset.head()"
   ]
  },
  {
   "cell_type": "markdown",
   "metadata": {
    "collapsed": true
   },
   "source": [
    "csv形式で保存"
   ]
  },
  {
   "cell_type": "code",
   "execution_count": 8,
   "metadata": {
    "collapsed": true
   },
   "outputs": [],
   "source": [
    "dataset.to_csv(\"data.csv\")\n",
    "output.to_csv(\"output.csv\")"
   ]
  },
  {
   "cell_type": "code",
   "execution_count": null,
   "metadata": {
    "collapsed": true
   },
   "outputs": [],
   "source": []
  }
 ],
 "metadata": {
  "kernelspec": {
   "display_name": "Python 3",
   "language": "python",
   "name": "python3"
  },
  "language_info": {
   "codemirror_mode": {
    "name": "ipython",
    "version": 3
   },
   "file_extension": ".py",
   "mimetype": "text/x-python",
   "name": "python",
   "nbconvert_exporter": "python",
   "pygments_lexer": "ipython3",
   "version": "3.6.0"
  }
 },
 "nbformat": 4,
 "nbformat_minor": 2
}
